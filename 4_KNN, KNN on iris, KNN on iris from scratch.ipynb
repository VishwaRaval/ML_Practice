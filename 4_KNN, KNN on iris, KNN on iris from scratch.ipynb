{
 "cells": [
  {
   "cell_type": "code",
   "execution_count": 1,
   "metadata": {
    "id": "CIJYSXFkTMEs"
   },
   "outputs": [],
   "source": [
    "# KNN classifier applied to 2d dataset with 3 classes\n",
    "\n",
    "import numpy as np\n",
    "import matplotlib.pyplot as plt\n",
    "from sklearn.neighbors import KNeighborsClassifier as KNN\n",
    "from sklearn.model_selection import cross_val_score\n",
    "from sklearn.datasets import make_blobs,load_iris\n",
    "from sklearn.model_selection import train_test_split\n",
    "import pandas as pd\n",
    "\n"
   ]
  },
  {
   "cell_type": "markdown",
   "metadata": {
    "id": "NE6rrLKe_-LR"
   },
   "source": [
    "#KNN (K Nearest Neighbours)"
   ]
  },
  {
   "cell_type": "markdown",
   "metadata": {
    "id": "e6vyLk1jAUSV"
   },
   "source": [
    "Data Generation"
   ]
  },
  {
   "cell_type": "code",
   "execution_count": 2,
   "metadata": {
    "id": "pfBjaYsOANZt"
   },
   "outputs": [],
   "source": [
    "X, y = make_blobs(n_samples=300, centers=3, n_features=2, cluster_std=6, random_state=42)\n",
    "ntrain = 100\n",
    "\n",
    "#first 100 dataset assigned as training data\n",
    "x_train = X[:ntrain] #for input\n",
    "y_train = y[:ntrain] #for output\n",
    "\n",
    "# 101 onwards rest of the set is test set\n",
    "x_test = X[ntrain:] #for input\n",
    "y_test = y[ntrain:] #for output\n"
   ]
  },
  {
   "cell_type": "code",
   "execution_count": 3,
   "metadata": {
    "colab": {
     "base_uri": "https://localhost:8080/"
    },
    "id": "0CGQNTIZh2tG",
    "outputId": "a0220158-9ce0-4206-a5b5-630224947b5f"
   },
   "outputs": [
    {
     "name": "stdout",
     "output_type": "stream",
     "text": [
      "-11.979175810064698\n"
     ]
    },
    {
     "data": {
      "text/plain": [
       "array([[ -9.63579259, -11.97917581],\n",
       "       [-12.04210738,  -9.18744286],\n",
       "       [  2.42607185,   1.68922423],\n",
       "       [  3.33379162,   8.5658308 ],\n",
       "       [-19.1083744 , -12.92862746],\n",
       "       [  9.78583658,   1.0135385 ],\n",
       "       [ -1.47011207,  11.32619041],\n",
       "       [  7.11746756,  -1.40917763],\n",
       "       [ -5.38424305,   7.90033227],\n",
       "       [ -9.65701861,  12.95360778],\n",
       "       [ -6.1194373 ,  20.12795524],\n",
       "       [  6.78197175,  -2.18428789],\n",
       "       [ -1.25601605,  -2.74373462],\n",
       "       [-11.00142208,   6.49041419],\n",
       "       [-10.78348261,  -9.8028619 ],\n",
       "       [ -6.72151619,   7.04831325],\n",
       "       [-16.64488182,  -6.59159991],\n",
       "       [ -7.51097668,   3.09189557],\n",
       "       [ -1.92673233,  14.82615607],\n",
       "       [  1.01194494,  22.15701988],\n",
       "       [  4.44237585,   4.09019222],\n",
       "       [ -3.47691189,  11.43859127],\n",
       "       [ 10.49059724,   1.09082539],\n",
       "       [ -7.55359549,  -8.20592719],\n",
       "       [ -5.28970378,   6.21990761],\n",
       "       [ -3.70080212,   1.76930213],\n",
       "       [-10.34025517,  -2.34776224],\n",
       "       [ -0.26944526,  14.52749334],\n",
       "       [  4.5663982 ,  -3.41035654],\n",
       "       [ -7.8462842 ,   4.11942442],\n",
       "       [ -8.45241557,   5.61649975],\n",
       "       [ -8.93455261,  11.90912062],\n",
       "       [ -1.89761229, -12.01661255],\n",
       "       [ -1.22463516,   1.53985346],\n",
       "       [-15.97077356,   1.32113601],\n",
       "       [ -1.14443802,  16.85714265],\n",
       "       [ -2.33769549, -12.41310154],\n",
       "       [  6.10967826,  -1.06848937],\n",
       "       [ -7.52180935, -13.09156353],\n",
       "       [  6.69041469,  13.23019472],\n",
       "       [ 12.24134573,  -2.27284711],\n",
       "       [ -0.96389528,   8.56761063],\n",
       "       [ -9.80526454,  -9.47545872],\n",
       "       [  3.95263976,   9.40006756],\n",
       "       [ -2.71746824,   2.0022179 ],\n",
       "       [ -0.34082399,  18.24250553],\n",
       "       [ -6.45022977,  -9.74605427],\n",
       "       [  1.72769755,   2.46441452],\n",
       "       [ -4.85401122,  -9.35137139],\n",
       "       [ 14.15597973,  -5.45372331],\n",
       "       [  5.09470619,  -2.08980059],\n",
       "       [ -6.92746304,   1.99955524],\n",
       "       [ -4.68003771, -12.51938831],\n",
       "       [  6.35816665,   5.90466482],\n",
       "       [  0.19615591,  -6.4749987 ],\n",
       "       [  7.73016495,  25.08955863],\n",
       "       [ -4.51291434,  -9.40601648],\n",
       "       [  3.27105915,  11.49097169],\n",
       "       [  5.32098291,   5.94595373],\n",
       "       [ -5.27303025,  15.35701949],\n",
       "       [ -5.46593984,  -2.25491843],\n",
       "       [ 17.43807908,  -9.73935711],\n",
       "       [ 10.03747809,   3.81696681],\n",
       "       [ 11.59365766,  -0.16266012],\n",
       "       [ -8.37341208,  -1.05068389],\n",
       "       [ -0.75060919,   4.92468471],\n",
       "       [  0.32921351,   0.69248677],\n",
       "       [ -2.60993792, -13.62796214],\n",
       "       [-17.09992183,  -7.21339579],\n",
       "       [ -8.88301991,  11.85584071],\n",
       "       [ 12.47275168,   2.09919273],\n",
       "       [ -0.52908027, -17.43254651],\n",
       "       [-11.07798024,  -5.59623013],\n",
       "       [  0.33022812,   8.57731265],\n",
       "       [ -4.86184654,   0.23319644],\n",
       "       [ -5.25688624,  -7.18153825],\n",
       "       [-19.28427979,  -7.41482983],\n",
       "       [  0.08508287,   2.8755324 ],\n",
       "       [ -6.11302976,   7.26412363],\n",
       "       [ 11.71651956,  -0.84188423],\n",
       "       [ -8.58618435,  10.89977012],\n",
       "       [ -2.94125835,  15.03548352],\n",
       "       [ -3.87412407, -12.74544106],\n",
       "       [ -0.52161703,  14.86755689],\n",
       "       [ 10.34242187,  -1.48825225],\n",
       "       [ -1.86547452, -13.65835072],\n",
       "       [  0.12706518,  -5.35358453],\n",
       "       [  8.68544944,  11.85728365],\n",
       "       [ 15.23260428,   4.40305995],\n",
       "       [-10.77521383,   3.38733589],\n",
       "       [-16.89605888,  -3.61994844],\n",
       "       [ -2.72415386,  18.40214806],\n",
       "       [ -4.00574824,  -4.87813696],\n",
       "       [  2.98321508,  10.98679279],\n",
       "       [ -5.68775885,  12.09389073],\n",
       "       [-10.20152302, -14.06737695],\n",
       "       [-13.28534977,  -7.7343865 ],\n",
       "       [ -0.94990086,  13.70522336],\n",
       "       [-11.45918213, -17.7094022 ],\n",
       "       [ -4.39901777,   4.38066528]])"
      ]
     },
     "execution_count": 3,
     "metadata": {},
     "output_type": "execute_result"
    }
   ],
   "source": [
    "print(x_train[0,1])\n",
    "x_train"
   ]
  },
  {
   "cell_type": "markdown",
   "metadata": {
    "id": "MNc4zbaVAe6c"
   },
   "source": [
    "Visualization Train Data Cluster"
   ]
  },
  {
   "cell_type": "code",
   "execution_count": 4,
   "metadata": {
    "colab": {
     "base_uri": "https://localhost:8080/",
     "height": 296
    },
    "id": "lPmGU6DSATPG",
    "outputId": "59960790-427c-4d81-c255-c6c436dfed98"
   },
   "outputs": [
    {
     "data": {
      "image/png": "[encoded data removed]",
      "text/plain": [
       "<Figure size 432x288 with 1 Axes>"
      ]
     },
     "metadata": {
      "needs_background": "light"
     },
     "output_type": "display_data"
    }
   ],
   "source": [
    "plt.figure()\n",
    "y_unique = np.unique(y_train) # Returns the sorted unique elements of the array y_train (Since we've kept centres=3, in our case y_unique = [0, 1, 2])\n",
    "markers = '*x+'\n",
    "colors = 'bgr'\n",
    "for i in range(len(y_unique)): #for i in 0,1 and 2\n",
    "  plt.scatter(x_train[y_train == y_unique[i], 0],  \n",
    "             x_train[y_train == y_unique[i], 1],\n",
    "             marker=markers[i],\n",
    "             c=colors[i]) # x=x_train[y_train == y_unique[i], 0], y=x_train[y_train == y_unique[i], 1] ==> x axis is feature 0 and y axis is feature 1\n",
    "plt.title('train')\n",
    "plt.xlabel('1st feature values or x_1')\n",
    "plt.ylabel('2nd feature values or x_2')\n",
    "\n",
    "plt.show()"
   ]
  },
  {
   "cell_type": "code",
   "execution_count": 5,
   "metadata": {
    "colab": {
     "base_uri": "https://localhost:8080/"
    },
    "id": "gN1dbgTolAeS",
    "outputId": "a8d2d547-ebdc-4919-d467-dd6a0476c62d"
   },
   "outputs": [
    {
     "data": {
      "text/plain": [
       "array([  2.42607185,  -1.47011207,  -5.38424305,  -9.65701861,\n",
       "        -6.1194373 ,  -1.25601605, -11.00142208,  -6.72151619,\n",
       "        -1.92673233,   1.01194494,   4.44237585,  -3.47691189,\n",
       "        -5.28970378,  -7.8462842 ,  -8.45241557,  -8.93455261,\n",
       "        -1.22463516,  -1.14443802,  -0.96389528,  -2.71746824,\n",
       "        -0.34082399,   6.35816665,   3.27105915,  -5.27303025,\n",
       "        -8.88301991,   0.33022812,  -4.86184654,  -6.11302976,\n",
       "        -8.58618435,  -2.94125835,  -0.52161703,   8.68544944,\n",
       "       -10.77521383,  -2.72415386,   2.98321508,  -5.68775885,\n",
       "        -0.94990086])"
      ]
     },
     "execution_count": 5,
     "metadata": {},
     "output_type": "execute_result"
    }
   ],
   "source": [
    "# Checking and understanding x_train[y_train == y_unique[i], 0]\n",
    "x_train[y_train == y_unique[0], 0]"
   ]
  },
  {
   "cell_type": "code",
   "execution_count": 6,
   "metadata": {
    "colab": {
     "base_uri": "https://localhost:8080/"
    },
    "id": "NXQs0a_hisAR",
    "outputId": "62d58019-b98a-4112-aa1e-dcf0239d7fef"
   },
   "outputs": [
    {
     "data": {
      "text/plain": [
       "array([2, 2, 0, 1, 2, 1, 0, 1, 0, 0, 0, 1, 0, 0, 2, 0, 2, 1, 0, 0, 0, 0,\n",
       "       1, 2, 0, 2, 2, 1, 1, 0, 0, 0, 2, 0, 2, 0, 2, 1, 2, 1, 1, 0, 2, 1,\n",
       "       0, 0, 2, 1, 2, 1, 1, 2, 2, 0, 2, 1, 2, 0, 1, 0, 2, 1, 1, 2, 2, 1,\n",
       "       1, 2, 2, 0, 1, 2, 2, 0, 0, 2, 2, 1, 0, 1, 0, 0, 2, 0, 1, 2, 2, 0,\n",
       "       1, 0, 2, 0, 2, 0, 0, 2, 2, 0, 2, 2])"
      ]
     },
     "execution_count": 6,
     "metadata": {},
     "output_type": "execute_result"
    }
   ],
   "source": [
    "# Checking and understanding x_train[y_train == y_unique[i], 0]\n",
    "y_train"
   ]
  },
  {
   "cell_type": "code",
   "execution_count": 7,
   "metadata": {
    "colab": {
     "base_uri": "https://localhost:8080/"
    },
    "id": "YfOpw9bnlU55",
    "outputId": "d9f32074-61b7-4d1a-e97f-6e6d794dcaa3"
   },
   "outputs": [
    {
     "data": {
      "text/plain": [
       "array([[ -9.63579259, -11.97917581],\n",
       "       [-12.04210738,  -9.18744286],\n",
       "       [  2.42607185,   1.68922423],\n",
       "       [  3.33379162,   8.5658308 ],\n",
       "       [-19.1083744 , -12.92862746],\n",
       "       [  9.78583658,   1.0135385 ],\n",
       "       [ -1.47011207,  11.32619041],\n",
       "       [  7.11746756,  -1.40917763],\n",
       "       [ -5.38424305,   7.90033227],\n",
       "       [ -9.65701861,  12.95360778],\n",
       "       [ -6.1194373 ,  20.12795524],\n",
       "       [  6.78197175,  -2.18428789],\n",
       "       [ -1.25601605,  -2.74373462],\n",
       "       [-11.00142208,   6.49041419],\n",
       "       [-10.78348261,  -9.8028619 ],\n",
       "       [ -6.72151619,   7.04831325],\n",
       "       [-16.64488182,  -6.59159991],\n",
       "       [ -7.51097668,   3.09189557],\n",
       "       [ -1.92673233,  14.82615607],\n",
       "       [  1.01194494,  22.15701988],\n",
       "       [  4.44237585,   4.09019222],\n",
       "       [ -3.47691189,  11.43859127],\n",
       "       [ 10.49059724,   1.09082539],\n",
       "       [ -7.55359549,  -8.20592719],\n",
       "       [ -5.28970378,   6.21990761],\n",
       "       [ -3.70080212,   1.76930213],\n",
       "       [-10.34025517,  -2.34776224],\n",
       "       [ -0.26944526,  14.52749334],\n",
       "       [  4.5663982 ,  -3.41035654],\n",
       "       [ -7.8462842 ,   4.11942442],\n",
       "       [ -8.45241557,   5.61649975],\n",
       "       [ -8.93455261,  11.90912062],\n",
       "       [ -1.89761229, -12.01661255],\n",
       "       [ -1.22463516,   1.53985346],\n",
       "       [-15.97077356,   1.32113601],\n",
       "       [ -1.14443802,  16.85714265],\n",
       "       [ -2.33769549, -12.41310154],\n",
       "       [  6.10967826,  -1.06848937],\n",
       "       [ -7.52180935, -13.09156353],\n",
       "       [  6.69041469,  13.23019472],\n",
       "       [ 12.24134573,  -2.27284711],\n",
       "       [ -0.96389528,   8.56761063],\n",
       "       [ -9.80526454,  -9.47545872],\n",
       "       [  3.95263976,   9.40006756],\n",
       "       [ -2.71746824,   2.0022179 ],\n",
       "       [ -0.34082399,  18.24250553],\n",
       "       [ -6.45022977,  -9.74605427],\n",
       "       [  1.72769755,   2.46441452],\n",
       "       [ -4.85401122,  -9.35137139],\n",
       "       [ 14.15597973,  -5.45372331],\n",
       "       [  5.09470619,  -2.08980059],\n",
       "       [ -6.92746304,   1.99955524],\n",
       "       [ -4.68003771, -12.51938831],\n",
       "       [  6.35816665,   5.90466482],\n",
       "       [  0.19615591,  -6.4749987 ],\n",
       "       [  7.73016495,  25.08955863],\n",
       "       [ -4.51291434,  -9.40601648],\n",
       "       [  3.27105915,  11.49097169],\n",
       "       [  5.32098291,   5.94595373],\n",
       "       [ -5.27303025,  15.35701949],\n",
       "       [ -5.46593984,  -2.25491843],\n",
       "       [ 17.43807908,  -9.73935711],\n",
       "       [ 10.03747809,   3.81696681],\n",
       "       [ 11.59365766,  -0.16266012],\n",
       "       [ -8.37341208,  -1.05068389],\n",
       "       [ -0.75060919,   4.92468471],\n",
       "       [  0.32921351,   0.69248677],\n",
       "       [ -2.60993792, -13.62796214],\n",
       "       [-17.09992183,  -7.21339579],\n",
       "       [ -8.88301991,  11.85584071],\n",
       "       [ 12.47275168,   2.09919273],\n",
       "       [ -0.52908027, -17.43254651],\n",
       "       [-11.07798024,  -5.59623013],\n",
       "       [  0.33022812,   8.57731265],\n",
       "       [ -4.86184654,   0.23319644],\n",
       "       [ -5.25688624,  -7.18153825],\n",
       "       [-19.28427979,  -7.41482983],\n",
       "       [  0.08508287,   2.8755324 ],\n",
       "       [ -6.11302976,   7.26412363],\n",
       "       [ 11.71651956,  -0.84188423],\n",
       "       [ -8.58618435,  10.89977012],\n",
       "       [ -2.94125835,  15.03548352],\n",
       "       [ -3.87412407, -12.74544106],\n",
       "       [ -0.52161703,  14.86755689],\n",
       "       [ 10.34242187,  -1.48825225],\n",
       "       [ -1.86547452, -13.65835072],\n",
       "       [  0.12706518,  -5.35358453],\n",
       "       [  8.68544944,  11.85728365],\n",
       "       [ 15.23260428,   4.40305995],\n",
       "       [-10.77521383,   3.38733589],\n",
       "       [-16.89605888,  -3.61994844],\n",
       "       [ -2.72415386,  18.40214806],\n",
       "       [ -4.00574824,  -4.87813696],\n",
       "       [  2.98321508,  10.98679279],\n",
       "       [ -5.68775885,  12.09389073],\n",
       "       [-10.20152302, -14.06737695],\n",
       "       [-13.28534977,  -7.7343865 ],\n",
       "       [ -0.94990086,  13.70522336],\n",
       "       [-11.45918213, -17.7094022 ],\n",
       "       [ -4.39901777,   4.38066528]])"
      ]
     },
     "execution_count": 7,
     "metadata": {},
     "output_type": "execute_result"
    }
   ],
   "source": [
    "# Checking and understanding x_train[y_train == y_unique[i], 0]\n",
    "x_train"
   ]
  },
  {
   "cell_type": "markdown",
   "metadata": {
    "id": "kXY6jDS4AlTG"
   },
   "source": [
    "KNN Model with Cluster boundaries"
   ]
  },
  {
   "cell_type": "code",
   "execution_count": 8,
   "metadata": {
    "colab": {
     "base_uri": "https://localhost:8080/",
     "height": 809
    },
    "id": "ZBHEUtYXAu3r",
    "outputId": "5b08630a-4bc0-432d-8791-e217578aaa45"
   },
   "outputs": [
    {
     "name": "stderr",
     "output_type": "stream",
     "text": [
      "C:\\Users\\VISHWA~1\\AppData\\Local\\Temp/ipykernel_11096/2613434572.py:14: MatplotlibDeprecationWarning: shading='flat' when X and Y have the same dimensions as C is deprecated since 3.3.  Either specify the corners of the quadrilaterals with X and Y, or pass shading='auto', 'nearest' or 'gouraud', or set rcParams['pcolor.shading'].  This will become an error two minor releases later.\n",
      "  plt.pcolormesh(xx, yy, y_predicted.reshape(100, 100), cmap='jet', alpha=0.2)\n"
     ]
    },
    {
     "data": {
      "image/png": "[encoded data removed]",
      "text/plain": [
       "<Figure size 432x288 with 1 Axes>"
      ]
     },
     "metadata": {
      "needs_background": "light"
     },
     "output_type": "display_data"
    },
    {
     "name": "stderr",
     "output_type": "stream",
     "text": [
      "C:\\Users\\VISHWA~1\\AppData\\Local\\Temp/ipykernel_11096/2613434572.py:14: MatplotlibDeprecationWarning: shading='flat' when X and Y have the same dimensions as C is deprecated since 3.3.  Either specify the corners of the quadrilaterals with X and Y, or pass shading='auto', 'nearest' or 'gouraud', or set rcParams['pcolor.shading'].  This will become an error two minor releases later.\n",
      "  plt.pcolormesh(xx, yy, y_predicted.reshape(100, 100), cmap='jet', alpha=0.2)\n"
     ]
    },
    {
     "data": {
      "image/png": "[encoded data removed]",
      "text/plain": [
       "<Figure size 432x288 with 1 Axes>"
      ]
     },
     "metadata": {
      "needs_background": "light"
     },
     "output_type": "display_data"
    },
    {
     "name": "stderr",
     "output_type": "stream",
     "text": [
      "C:\\Users\\VISHWA~1\\AppData\\Local\\Temp/ipykernel_11096/2613434572.py:14: MatplotlibDeprecationWarning: shading='flat' when X and Y have the same dimensions as C is deprecated since 3.3.  Either specify the corners of the quadrilaterals with X and Y, or pass shading='auto', 'nearest' or 'gouraud', or set rcParams['pcolor.shading'].  This will become an error two minor releases later.\n",
      "  plt.pcolormesh(xx, yy, y_predicted.reshape(100, 100), cmap='jet', alpha=0.2)\n"
     ]
    },
    {
     "data": {
      "image/png": "[encoded data removed]",
      "text/plain": [
       "<Figure size 432x288 with 1 Axes>"
      ]
     },
     "metadata": {
      "needs_background": "light"
     },
     "output_type": "display_data"
    }
   ],
   "source": [
    "x = np.linspace(np.min(x_test[:, 0]), np.max(x_test[:, 0]), 100)\n",
    "y = np.linspace(np.min(x_test[:, 1]), np.max(x_test[:, 1]), 100)\n",
    "xx, yy = np.meshgrid(x, y) # Return coordinate matrices from coordinate vectors.\n",
    "xy = np.c_[xx.ravel(), yy.ravel()]\n",
    "\n",
    "\n",
    "# use the knn model to predict\n",
    "for k in [1, 2, 5]:\n",
    "  knn = KNN(n_neighbors=k)\n",
    "  knn.fit(x_train, y_train)\n",
    "  plt.figure()\n",
    "  y_predicted = knn.predict(xy)\n",
    "  \n",
    "  plt.pcolormesh(xx, yy, y_predicted.reshape(100, 100), cmap='jet', alpha=0.2)\n",
    "\n",
    "  for i in range(len(y_unique)):\n",
    "      plt.scatter(x_train[y_train == y_unique[i], 0],\n",
    "                 x_train[y_train == y_unique[i], 1],\n",
    "                 marker=markers[i],\n",
    "                 c=colors[i])\n",
    "  plt.title('k=%s' % (k))\n",
    "\n",
    "  plt.show()"
   ]
  },
  {
   "cell_type": "code",
   "execution_count": 9,
   "metadata": {
    "colab": {
     "base_uri": "https://localhost:8080/"
    },
    "id": "Is3VFJ6Kw6t5",
    "outputId": "cb7d6412-c290-4e9a-bd06-1f2c25f6625a"
   },
   "outputs": [
    {
     "data": {
      "text/plain": [
       "array([[-21.70949419, -21.30305657, -20.89661895, ...,  17.714955  ,\n",
       "         18.12139262,  18.52783024],\n",
       "       [-21.70949419, -21.30305657, -20.89661895, ...,  17.714955  ,\n",
       "         18.12139262,  18.52783024],\n",
       "       [-21.70949419, -21.30305657, -20.89661895, ...,  17.714955  ,\n",
       "         18.12139262,  18.52783024],\n",
       "       ...,\n",
       "       [-21.70949419, -21.30305657, -20.89661895, ...,  17.714955  ,\n",
       "         18.12139262,  18.52783024],\n",
       "       [-21.70949419, -21.30305657, -20.89661895, ...,  17.714955  ,\n",
       "         18.12139262,  18.52783024],\n",
       "       [-21.70949419, -21.30305657, -20.89661895, ...,  17.714955  ,\n",
       "         18.12139262,  18.52783024]])"
      ]
     },
     "execution_count": 9,
     "metadata": {},
     "output_type": "execute_result"
    }
   ],
   "source": [
    "xx"
   ]
  },
  {
   "cell_type": "code",
   "execution_count": 10,
   "metadata": {
    "colab": {
     "base_uri": "https://localhost:8080/"
    },
    "id": "qkXeK0w5xJhb",
    "outputId": "b3778041-7e83-446e-9a67-4a53a6e0a967"
   },
   "outputs": [
    {
     "data": {
      "text/plain": [
       "array([-21.70949419, -21.30305657, -20.89661895, -20.49018133,\n",
       "       -20.08374371, -19.67730609, -19.27086847, -18.86443085,\n",
       "       -18.45799323, -18.05155561, -17.64511799, -17.23868037,\n",
       "       -16.83224275, -16.42580513, -16.01936751, -15.61292988,\n",
       "       -15.20649226, -14.80005464, -14.39361702, -13.9871794 ,\n",
       "       -13.58074178, -13.17430416, -12.76786654, -12.36142892,\n",
       "       -11.9549913 , -11.54855368, -11.14211606, -10.73567844,\n",
       "       -10.32924082,  -9.9228032 ,  -9.51636558,  -9.10992796,\n",
       "        -8.70349034,  -8.29705272,  -7.8906151 ,  -7.48417747,\n",
       "        -7.07773985,  -6.67130223,  -6.26486461,  -5.85842699,\n",
       "        -5.45198937,  -5.04555175,  -4.63911413,  -4.23267651,\n",
       "        -3.82623889,  -3.41980127,  -3.01336365,  -2.60692603,\n",
       "        -2.20048841,  -1.79405079,  -1.38761317,  -0.98117555,\n",
       "        -0.57473793,  -0.16830031,   0.23813731,   0.64457493,\n",
       "         1.05101256,   1.45745018,   1.8638878 ,   2.27032542,\n",
       "         2.67676304,   3.08320066,   3.48963828,   3.8960759 ,\n",
       "         4.30251352,   4.70895114,   5.11538876,   5.52182638,\n",
       "         5.928264  ,   6.33470162,   6.74113924,   7.14757686,\n",
       "         7.55401448,   7.9604521 ,   8.36688972,   8.77332734,\n",
       "         9.17976497,   9.58620259,   9.99264021,  10.39907783,\n",
       "        10.80551545,  11.21195307,  11.61839069,  12.02482831,\n",
       "        12.43126593,  12.83770355,  13.24414117,  13.65057879,\n",
       "        14.05701641,  14.46345403,  14.86989165,  15.27632927,\n",
       "        15.68276689,  16.08920451,  16.49564213,  16.90207975,\n",
       "        17.30851737,  17.714955  ,  18.12139262,  18.52783024])"
      ]
     },
     "execution_count": 10,
     "metadata": {},
     "output_type": "execute_result"
    }
   ],
   "source": [
    "x"
   ]
  },
  {
   "cell_type": "markdown",
   "metadata": {
    "id": "B0CZW0OPBmfG"
   },
   "source": [
    "Model Selection"
   ]
  },
  {
   "cell_type": "code",
   "execution_count": 11,
   "metadata": {
    "colab": {
     "base_uri": "https://localhost:8080/"
    },
    "id": "D3mfje80xMAW",
    "outputId": "72941567-6901-480f-f8b2-74cbbfcae006"
   },
   "outputs": [
    {
     "data": {
      "text/plain": [
       "array([-20.69163658, -20.22671802, -19.76179946, -19.29688089,\n",
       "       -18.83196233, -18.36704377, -17.90212521, -17.43720664,\n",
       "       -16.97228808, -16.50736952, -16.04245095, -15.57753239,\n",
       "       -15.11261383, -14.64769527, -14.1827767 , -13.71785814,\n",
       "       -13.25293958, -12.78802102, -12.32310245, -11.85818389,\n",
       "       -11.39326533, -10.92834676, -10.4634282 ,  -9.99850964,\n",
       "        -9.53359108,  -9.06867251,  -8.60375395,  -8.13883539,\n",
       "        -7.67391683,  -7.20899826,  -6.7440797 ,  -6.27916114,\n",
       "        -5.81424257,  -5.34932401,  -4.88440545,  -4.41948689,\n",
       "        -3.95456832,  -3.48964976,  -3.0247312 ,  -2.55981264,\n",
       "        -2.09489407,  -1.62997551,  -1.16505695,  -0.70013838,\n",
       "        -0.23521982,   0.22969874,   0.6946173 ,   1.15953587,\n",
       "         1.62445443,   2.08937299,   2.55429155,   3.01921012,\n",
       "         3.48412868,   3.94904724,   4.41396581,   4.87888437,\n",
       "         5.34380293,   5.80872149,   6.27364006,   6.73855862,\n",
       "         7.20347718,   7.66839574,   8.13331431,   8.59823287,\n",
       "         9.06315143,   9.52807   ,   9.99298856,  10.45790712,\n",
       "        10.92282568,  11.38774425,  11.85266281,  12.31758137,\n",
       "        12.78249993,  13.2474185 ,  13.71233706,  14.17725562,\n",
       "        14.64217419,  15.10709275,  15.57201131,  16.03692987,\n",
       "        16.50184844,  16.966767  ,  17.43168556,  17.89660412,\n",
       "        18.36152269,  18.82644125,  19.29135981,  19.75627838,\n",
       "        20.22119694,  20.6861155 ,  21.15103406,  21.61595263,\n",
       "        22.08087119,  22.54578975,  23.01070831,  23.47562688,\n",
       "        23.94054544,  24.405464  ,  24.87038257,  25.33530113])"
      ]
     },
     "execution_count": 11,
     "metadata": {},
     "output_type": "execute_result"
    }
   ],
   "source": [
    "y"
   ]
  },
  {
   "cell_type": "code",
   "execution_count": 12,
   "metadata": {
    "colab": {
     "base_uri": "https://localhost:8080/"
    },
    "id": "an_qXOtUxjEG",
    "outputId": "1df90cb2-38c2-4aa2-88f8-791ca13b710a"
   },
   "outputs": [
    {
     "data": {
      "text/plain": [
       "array([[-20.69163658, -20.69163658, -20.69163658, ..., -20.69163658,\n",
       "        -20.69163658, -20.69163658],\n",
       "       [-20.22671802, -20.22671802, -20.22671802, ..., -20.22671802,\n",
       "        -20.22671802, -20.22671802],\n",
       "       [-19.76179946, -19.76179946, -19.76179946, ..., -19.76179946,\n",
       "        -19.76179946, -19.76179946],\n",
       "       ...,\n",
       "       [ 24.405464  ,  24.405464  ,  24.405464  , ...,  24.405464  ,\n",
       "         24.405464  ,  24.405464  ],\n",
       "       [ 24.87038257,  24.87038257,  24.87038257, ...,  24.87038257,\n",
       "         24.87038257,  24.87038257],\n",
       "       [ 25.33530113,  25.33530113,  25.33530113, ...,  25.33530113,\n",
       "         25.33530113,  25.33530113]])"
      ]
     },
     "execution_count": 12,
     "metadata": {},
     "output_type": "execute_result"
    }
   ],
   "source": [
    "yy"
   ]
  },
  {
   "cell_type": "code",
   "execution_count": 13,
   "metadata": {
    "colab": {
     "base_uri": "https://localhost:8080/"
    },
    "id": "eTI7anK7y8x5",
    "outputId": "3e0f549a-7506-42a2-a70f-19b335944352"
   },
   "outputs": [
    {
     "data": {
      "text/plain": [
       "array([[-21.70949419, -20.69163658],\n",
       "       [-21.30305657, -20.69163658],\n",
       "       [-20.89661895, -20.69163658],\n",
       "       ...,\n",
       "       [ 17.714955  ,  25.33530113],\n",
       "       [ 18.12139262,  25.33530113],\n",
       "       [ 18.52783024,  25.33530113]])"
      ]
     },
     "execution_count": 13,
     "metadata": {},
     "output_type": "execute_result"
    }
   ],
   "source": [
    "xy"
   ]
  },
  {
   "cell_type": "code",
   "execution_count": 14,
   "metadata": {
    "colab": {
     "base_uri": "https://localhost:8080/"
    },
    "id": "MA23vW0kzF-G",
    "outputId": "01ab09b2-a599-4449-f24d-f5319a5503a1"
   },
   "outputs": [
    {
     "data": {
      "text/plain": [
       "(10000, 2)"
      ]
     },
     "execution_count": 14,
     "metadata": {},
     "output_type": "execute_result"
    }
   ],
   "source": [
    "xy.shape"
   ]
  },
  {
   "cell_type": "code",
   "execution_count": 15,
   "metadata": {
    "colab": {
     "base_uri": "https://localhost:8080/",
     "height": 380
    },
    "id": "sHAs0ZadBtCP",
    "outputId": "c3e5af06-e1a0-417a-c46e-ccedc2511d11"
   },
   "outputs": [
    {
     "data": {
      "image/png": "[encoded data removed]",
      "text/plain": [
       "<Figure size 432x288 with 1 Axes>"
      ]
     },
     "metadata": {
      "needs_background": "light"
     },
     "output_type": "display_data"
    }
   ],
   "source": [
    "ks = [1, 5, 10, 20, 50, 70, 79]\n",
    "train_errs = []\n",
    "test_errs = []\n",
    "for k in ks:\n",
    "  knn = KNN(n_neighbors=k)\n",
    "  knn.fit(x_train, y_train)\n",
    "  train_errs.append(1 - knn.score(x_train, y_train))\n",
    "  test_errs.append(1 - knn.score(x_test, y_test))\n",
    "plt.figure()\n",
    "plt.plot(ks, train_errs, 'bs:', label='train')\n",
    "plt.plot(ks, test_errs, 'rx-', label='test')\n",
    "plt.legend()\n",
    "plt.xlabel('k')\n",
    "plt.ylabel('misclassification rate')\n",
    "\n",
    "plt.show()"
   ]
  },
  {
   "cell_type": "markdown",
   "metadata": {
    "id": "5REvQfpl_4tw"
   },
   "source": [
    "#KNN on IRIS Dataset"
   ]
  },
  {
   "cell_type": "markdown",
   "metadata": {
    "id": "vxyoG2S2DBLv"
   },
   "source": [
    "##Data Pre-processing"
   ]
  },
  {
   "cell_type": "code",
   "execution_count": 16,
   "metadata": {
    "id": "bCIUUXV12fYn"
   },
   "outputs": [],
   "source": [
    "iris = load_iris() # Load IRIS dataset from sckitlearn library"
   ]
  },
  {
   "cell_type": "code",
   "execution_count": 17,
   "metadata": {
    "colab": {
     "base_uri": "https://localhost:8080/"
    },
    "id": "iMosUTC523J-",
    "outputId": "956a7a07-5fc0-48d0-c156-140695f0b344"
   },
   "outputs": [
    {
     "name": "stdout",
     "output_type": "stream",
     "text": [
      "['sepal length (cm)', 'sepal width (cm)', 'petal length (cm)', 'petal width (cm)']\n",
      "['setosa' 'versicolor' 'virginica']\n"
     ]
    }
   ],
   "source": [
    "print(iris.feature_names)  # Iris has 4 feature and 3 output classes\n",
    "print(iris.target_names)"
   ]
  },
  {
   "cell_type": "code",
   "execution_count": 18,
   "metadata": {
    "colab": {
     "base_uri": "https://localhost:8080/"
    },
    "id": "Qv1b9DE73MRe",
    "outputId": "dacf5bf0-164e-47c7-fc22-4b8d25f7d7ab"
   },
   "outputs": [
    {
     "name": "stdout",
     "output_type": "stream",
     "text": [
      "[[5.1 3.5 1.4 0.2]\n",
      " [4.9 3.  1.4 0.2]\n",
      " [4.7 3.2 1.3 0.2]\n",
      " [4.6 3.1 1.5 0.2]\n",
      " [5.  3.6 1.4 0.2]]\n"
     ]
    }
   ],
   "source": [
    "X = iris.data\n",
    "print(X[:5])"
   ]
  },
  {
   "cell_type": "code",
   "execution_count": 19,
   "metadata": {
    "colab": {
     "base_uri": "https://localhost:8080/"
    },
    "id": "nZgkfrgg39cO",
    "outputId": "aa8f5b20-014f-432c-a072-ae084c1c5b42"
   },
   "outputs": [
    {
     "name": "stdout",
     "output_type": "stream",
     "text": [
      "(150, 4)\n"
     ]
    }
   ],
   "source": [
    "print(X.shape)"
   ]
  },
  {
   "cell_type": "code",
   "execution_count": 20,
   "metadata": {
    "colab": {
     "base_uri": "https://localhost:8080/"
    },
    "id": "bLXKHTPR4ZZ2",
    "outputId": "5aed66e0-f9dd-4cbb-f16c-7202b6a0d2ea"
   },
   "outputs": [
    {
     "name": "stdout",
     "output_type": "stream",
     "text": [
      "[0 0 0 0 0 0 0 0 0 0 0 0 0 0 0 0 0 0 0 0 0 0 0 0 0 0 0 0 0 0 0 0 0 0 0 0 0\n",
      " 0 0 0 0 0 0 0 0 0 0 0 0 0 1 1 1 1 1 1 1 1 1 1 1 1 1 1 1 1 1 1 1 1 1 1 1 1\n",
      " 1 1 1 1 1 1 1 1 1 1 1 1 1 1 1 1 1 1 1 1 1 1 1 1 1 1 2 2 2 2 2 2 2 2 2 2 2\n",
      " 2 2 2 2 2 2 2 2 2 2 2 2 2 2 2 2 2 2 2 2 2 2 2 2 2 2 2 2 2 2 2 2 2 2 2 2 2\n",
      " 2 2]\n"
     ]
    }
   ],
   "source": [
    "y = iris.target\n",
    "print(y)"
   ]
  },
  {
   "cell_type": "markdown",
   "metadata": {
    "id": "FmaYhAdGCYq7"
   },
   "source": [
    "Split Dataset into train and test"
   ]
  },
  {
   "cell_type": "code",
   "execution_count": 21,
   "metadata": {
    "id": "ApQMGimf4w-u"
   },
   "outputs": [],
   "source": [
    "X_train, X_test, y_train, y_test = train_test_split(X, y, test_size=0.33, random_state=42)"
   ]
  },
  {
   "cell_type": "code",
   "execution_count": 22,
   "metadata": {
    "colab": {
     "base_uri": "https://localhost:8080/"
    },
    "id": "8fzP1hZf6XX7",
    "outputId": "a826baa4-f6a1-4ec1-ef8a-efbe7ab21461"
   },
   "outputs": [
    {
     "name": "stdout",
     "output_type": "stream",
     "text": [
      "(100, 4)\n",
      "[[5.7 2.9 4.2 1.3]\n",
      " [7.6 3.  6.6 2.1]\n",
      " [5.6 3.  4.5 1.5]\n",
      " [5.1 3.5 1.4 0.2]\n",
      " [7.7 2.8 6.7 2. ]]\n"
     ]
    }
   ],
   "source": [
    "print(X_train.shape)\n",
    "print(X_train[:5])"
   ]
  },
  {
   "cell_type": "code",
   "execution_count": 23,
   "metadata": {
    "colab": {
     "base_uri": "https://localhost:8080/"
    },
    "id": "Vg-49syd-uTb",
    "outputId": "c968af6e-887b-4f2c-e7da-c8a1a9de4c4d"
   },
   "outputs": [
    {
     "name": "stdout",
     "output_type": "stream",
     "text": [
      "[1 2 1 0 2 1 0 0 0 1 2 0 0 0 1 0 1 2 0 1 2 0 2 2 1 1 2 1 0 1 2 0 0 1 1 0 2\n",
      " 0 0 1 1 2 1 2 2 1 0 0 2 2 0 0 0 1 2 0 2 2 0 1 1 2 1 2 0 2 1 2 1 1 1 0 1 1\n",
      " 0 1 2 2 0 1 2 2 0 2 0 1 2 2 1 2 1 1 2 2 0 1 2 0 1 2]\n"
     ]
    }
   ],
   "source": [
    "print(y_train)"
   ]
  },
  {
   "cell_type": "markdown",
   "metadata": {
    "id": "3gJoHJBUCOga"
   },
   "source": [
    "Visualize Iris dataset based on petal length and petal width"
   ]
  },
  {
   "cell_type": "code",
   "execution_count": 24,
   "metadata": {
    "colab": {
     "base_uri": "https://localhost:8080/",
     "height": 279
    },
    "id": "rnkJHzNM8VPX",
    "outputId": "57d171a4-70e0-4ce4-bea5-1cfadf969006"
   },
   "outputs": [
    {
     "data": {
      "image/png": "[encoded data removed]",
      "text/plain": [
       "<Figure size 432x288 with 1 Axes>"
      ]
     },
     "metadata": {
      "needs_background": "light"
     },
     "output_type": "display_data"
    }
   ],
   "source": [
    "K=3\n",
    "colors = 'bgr'\n",
    "markers = '*x+'\n",
    "fig, ax = plt.subplots()\n",
    "for k in range(0, K):\n",
    "  ax.plot(X_train[y_train==k, 2], X_train[y_train==k, 3], color=colors[k], \\\n",
    "          marker=markers[k], linestyle = 'None', label=\"Cluster {}\".format(k))\n",
    "  \n",
    "ax.set(xlabel = iris.feature_names[2])\n",
    "ax.set(ylabel = iris.feature_names[3])\n",
    "plt.legend(loc=\"upper left\", fontsize=12)\n",
    "# save_fig(\"iris-2d-gmm\")\n",
    "plt.show()"
   ]
  },
  {
   "cell_type": "markdown",
   "metadata": {
    "id": "GNJBoOBdDGhW"
   },
   "source": [
    "##KNN Model"
   ]
  },
  {
   "cell_type": "code",
   "execution_count": 25,
   "metadata": {
    "colab": {
     "base_uri": "https://localhost:8080/"
    },
    "id": "Ytsg6YO2-b1n",
    "outputId": "2deb3f1e-0ac8-4a93-ce6f-6af8c5ec1569"
   },
   "outputs": [
    {
     "data": {
      "text/plain": [
       "KNeighborsClassifier(n_neighbors=2)"
      ]
     },
     "execution_count": 25,
     "metadata": {},
     "output_type": "execute_result"
    }
   ],
   "source": [
    "knn = KNN(n_neighbors=2)\n",
    "knn.fit(X_train, y_train)"
   ]
  },
  {
   "cell_type": "code",
   "execution_count": 26,
   "metadata": {
    "colab": {
     "base_uri": "https://localhost:8080/"
    },
    "id": "yV2Qyy66_RYW",
    "outputId": "d303ced6-2c59-4da6-ecf8-b6756572f231"
   },
   "outputs": [
    {
     "name": "stdout",
     "output_type": "stream",
     "text": [
      "0.97\n",
      "0.98\n"
     ]
    }
   ],
   "source": [
    "y_pred=knn.predict(X_test)\n",
    "print(knn.score(X_train, y_train))\n",
    "print(knn.score(X_test, y_test))"
   ]
  },
  {
   "cell_type": "markdown",
   "metadata": {
    "id": "EP5Sv8PYDYiY"
   },
   "source": [
    "## Extended Learning Question (My Attepmt):"
   ]
  },
  {
   "cell_type": "markdown",
   "metadata": {
    "id": "jQO_6ek-HfqH"
   },
   "source": [
    "##Model Selection for Iris Dataset (My attempt)"
   ]
  },
  {
   "cell_type": "code",
   "execution_count": 31,
   "metadata": {
    "colab": {
     "base_uri": "https://localhost:8080/",
     "height": 279
    },
    "id": "UfxrPCVhHjmH",
    "outputId": "43bc67cd-5139-4d60-d70d-37db0f5d268f"
   },
   "outputs": [
    {
     "data": {
      "image/png": "[encoded data removed]",
      "text/plain": [
       "<Figure size 432x288 with 1 Axes>"
      ]
     },
     "metadata": {
      "needs_background": "light"
     },
     "output_type": "display_data"
    }
   ],
   "source": [
    "# Hint: Plot misclassification rate vs k and observe\n",
    "ks = [1, 5, 10, 20, 50, 70, 79]\n",
    "train_errs = []\n",
    "test_errs = []\n",
    "for k in ks:\n",
    "  knn = KNN(n_neighbors=k)\n",
    "  knn.fit(X_train, y_train)\n",
    "  train_errs.append(1 - knn.score(X_train, y_train))\n",
    "  test_errs.append(1 - knn.score(X_test, y_test))\n",
    "plt.figure()\n",
    "plt.plot(ks, train_errs, 'bs:', label='train')\n",
    "plt.plot(ks, test_errs, 'rx-', label='test')\n",
    "plt.legend()\n",
    "plt.xlabel('k')\n",
    "plt.ylabel('misclassification rate')\n",
    "\n",
    "plt.show()"
   ]
  },
  {
   "cell_type": "markdown",
   "metadata": {
    "id": "wXkHw2hFAxcp"
   },
   "source": [
    "## The value of k should be somewhere between 5 to 10. As very small value of k will cause overfiffing (because of zero or near to zero training error) and at very large value the decision boundaries become smoother (since we are averaging over larger neighborhoods), so the training error increases, its underfit. And in the range between 5 to 10 the difference between test and train error is less. Therefore, a good value to choose for K is K=5"
   ]
  },
  {
   "cell_type": "markdown",
   "metadata": {
    "id": "0W_AwL6MHz0x"
   },
   "source": [
    "##KNN From Scratch (MY ATTEMPT)"
   ]
  },
  {
   "cell_type": "code",
   "execution_count": 32,
   "metadata": {
    "id": "JzREjktmE9gJ"
   },
   "outputs": [],
   "source": [
    "def get_nearest_nei(X_train,X_test):\n",
    "    #input: X_train, X_test\n",
    "    iris = load_iris()\n",
    "    X = iris.data\n",
    "    y = iris.target\n",
    "\n",
    "    # Generating Training Dataset\n",
    "    xtrn = (X[:25], X[50:75], X[100:125])\n",
    "    X_train = np.concatenate(xtrn) #Training input\n",
    "\n",
    "    ytrn = (y[:25], y[50:75], y[100:125])\n",
    "    y_train = np.concatenate(ytrn)\n",
    "\n",
    "    # Generating Test Data\n",
    "    xtst = (X[25:50], X[75:100], X[125:150])\n",
    "    X_test = np.concatenate(xtst) #Testing input\n",
    "\n",
    "    ytst = (y[25:50], y[75:100], y[125:150])\n",
    "    y_test = np.concatenate(ytst)\n",
    "\n",
    "\n",
    "    #Use Euclidian Distance Method\n",
    "    test_size = X_test.shape[0]\n",
    "    train_size = X_train.shape[0]  #X_train.shape[0] is equivalent to len(X_train) -- Both Return the first dimension of the array\n",
    "\n",
    "    dist = np.zeros((test_size, train_size))\n",
    "    for i in range(test_size):\n",
    "      for j in range(train_size):\n",
    "        dist [i, j] = np.sqrt(np.sum((X_test[i, :] - X_train[j, :]) **2))\n",
    "\n",
    "    #output: Distance Matrix: Distance of every point in X_test to every data point in X_train\n",
    "    return dist"
   ]
  },
  {
   "cell_type": "code",
   "execution_count": 33,
   "metadata": {
    "id": "2NpV0Ox9Dn0Y"
   },
   "outputs": [],
   "source": [
    "def KNN_scratch(k, X_train, y_train, X_test):\n",
    "    # input: k: k nearest neighbours,\n",
    "    # X_train and y_train: Training samples\n",
    "    # X_test: points to be predicted\n",
    "\n",
    "    #Step 1 : Get Distance Matrix\n",
    "    dis_matrix = get_nearest_nei(X_train,X_test) # suppose n data samples then dis_matrix = (n,n)\n",
    "\n",
    "    #Step 2: Find k Nearest Neighbours and their labels\n",
    "    dis_matrix_size = dis_matrix.shape[0]\n",
    "    y_pred = np.zeros(dis_matrix_size)\n",
    "    for i in range(dis_matrix_size):\n",
    "\n",
    "      nearest_y = []\n",
    "      k_nearest_neighbours = np.argsort(dis_matrix[i, :])[:k]\n",
    "      nearest_y = y_train[k_nearest_neighbours]\n",
    "      \n",
    "      #Step 3: Find count of similiar labels from nearest neighbours\n",
    "      #Step 4: Assign max count labels as output to the point\n",
    "      y_pred[i] = np.argmax(np.bincount(nearest_y))  \n",
    "\n",
    "    return y_pred"
   ]
  },
  {
   "cell_type": "code",
   "execution_count": 30,
   "metadata": {},
   "outputs": [
    {
     "ename": "SyntaxError",
     "evalue": "duplicate argument 'X_test' in function definition (Temp/ipykernel_11096/2469069993.py, line 1)",
     "output_type": "error",
     "traceback": [
      "\u001b[1;36m  File \u001b[1;32m\"C:\\Users\\VISHWA~1\\AppData\\Local\\Temp/ipykernel_11096/2469069993.py\"\u001b[1;36m, line \u001b[1;32m1\u001b[0m\n\u001b[1;33m    def score(k, X_train, y_train, X_test, X_test, y_test):\u001b[0m\n\u001b[1;37m    ^\u001b[0m\n\u001b[1;31mSyntaxError\u001b[0m\u001b[1;31m:\u001b[0m duplicate argument 'X_test' in function definition\n"
     ]
    }
   ],
   "source": [
    "def score(k, X_train, y_train, X_test, X_test, y_test):\n",
    "    \n",
    "    y_pred = KNN_scratch(k, X_train, y_train, X_test)\n",
    "    \n",
    "    return float(sum(y_pred - y_test))/ float(len(y_test))"
   ]
  },
  {
   "cell_type": "markdown",
   "metadata": {},
   "source": [
    "## Extended Learning Question (Solution):"
   ]
  },
  {
   "cell_type": "markdown",
   "metadata": {},
   "source": [
    "KNN From Scratch"
   ]
  },
  {
   "cell_type": "code",
   "execution_count": 204,
   "metadata": {},
   "outputs": [],
   "source": [
    "#Importing the required modules\n",
    "\n",
    "from numpy.random import randint\n",
    " \n",
    "#Loading the Data\n",
    "iris= load_iris()\n",
    " \n",
    "# Store features matrix in X\n",
    "X= iris.data\n",
    "#Store target vector in \n",
    "y= iris.target\n",
    " \n",
    " \n",
    "# Creating the training Data\n",
    "train_idx = xxx = randint(0,150,100) # random.randint(low, high=None, size=None, dtype=int): Return random integers from low (inclusive) to high (exclusive)\n",
    "X_train = X[train_idx]\n",
    "y_train = y[train_idx]\n",
    " \n",
    "#Creating the testing Data\n",
    "test_idx = xxx = randint(0,150,50) #taking 50 random samples\n",
    "X_test = X[test_idx]\n",
    "y_test = y[test_idx]"
   ]
  },
  {
   "cell_type": "code",
   "execution_count": 205,
   "metadata": {},
   "outputs": [
    {
     "data": {
      "text/plain": [
       "(100, 4)"
      ]
     },
     "execution_count": 205,
     "metadata": {},
     "output_type": "execute_result"
    }
   ],
   "source": [
    "X_train.shape"
   ]
  },
  {
   "cell_type": "code",
   "execution_count": 206,
   "metadata": {},
   "outputs": [
    {
     "name": "stdout",
     "output_type": "stream",
     "text": [
      "100\n",
      "[[6.1 2.6 5.6 1.4]\n",
      " [4.6 3.4 1.4 0.3]\n",
      " [6.6 2.9 4.6 1.3]\n",
      " [7.6 3.  6.6 2.1]\n",
      " [6.7 2.5 5.8 1.8]\n",
      " [6.  2.2 4.  1. ]\n",
      " [5.1 3.3 1.7 0.5]\n",
      " [4.8 3.4 1.9 0.2]\n",
      " [6.7 3.3 5.7 2.5]\n",
      " [6.4 3.2 5.3 2.3]\n",
      " [5.8 2.8 5.1 2.4]\n",
      " [5.1 3.8 1.9 0.4]\n",
      " [6.4 2.9 4.3 1.3]\n",
      " [6.3 3.3 6.  2.5]\n",
      " [5.5 2.4 3.7 1. ]\n",
      " [5.8 4.  1.2 0.2]\n",
      " [6.  3.  4.8 1.8]\n",
      " [5.  3.5 1.3 0.3]\n",
      " [5.5 2.4 3.8 1.1]\n",
      " [4.9 3.1 1.5 0.2]\n",
      " [5.7 2.6 3.5 1. ]\n",
      " [5.6 2.7 4.2 1.3]\n",
      " [5.5 4.2 1.4 0.2]\n",
      " [6.5 2.8 4.6 1.5]\n",
      " [5.  2.3 3.3 1. ]\n",
      " [5.6 3.  4.1 1.3]\n",
      " [5.1 3.5 1.4 0.3]\n",
      " [5.  3.4 1.5 0.2]\n",
      " [6.8 3.  5.5 2.1]\n",
      " [5.7 2.8 4.5 1.3]\n",
      " [6.2 3.4 5.4 2.3]\n",
      " [5.8 2.6 4.  1.2]\n",
      " [5.  3.5 1.3 0.3]\n",
      " [6.4 2.9 4.3 1.3]\n",
      " [6.9 3.1 4.9 1.5]\n",
      " [6.3 3.4 5.6 2.4]\n",
      " [6.4 3.2 4.5 1.5]\n",
      " [5.  3.4 1.6 0.4]\n",
      " [4.4 3.  1.3 0.2]\n",
      " [6.  3.4 4.5 1.6]\n",
      " [5.6 2.5 3.9 1.1]\n",
      " [6.9 3.1 5.4 2.1]\n",
      " [6.  3.4 4.5 1.6]\n",
      " [5.  2.  3.5 1. ]\n",
      " [4.9 3.6 1.4 0.1]\n",
      " [5.4 3.4 1.7 0.2]\n",
      " [5.6 3.  4.1 1.3]\n",
      " [6.9 3.2 5.7 2.3]\n",
      " [6.4 2.7 5.3 1.9]\n",
      " [5.6 2.7 4.2 1.3]\n",
      " [6.2 2.8 4.8 1.8]\n",
      " [5.8 2.6 4.  1.2]\n",
      " [5.5 3.5 1.3 0.2]\n",
      " [4.8 3.  1.4 0.3]\n",
      " [5.7 2.8 4.1 1.3]\n",
      " [6.4 3.2 4.5 1.5]\n",
      " [6.8 3.2 5.9 2.3]\n",
      " [5.1 3.5 1.4 0.3]\n",
      " [6.5 2.8 4.6 1.5]\n",
      " [6.2 2.9 4.3 1.3]\n",
      " [5.4 3.4 1.5 0.4]\n",
      " [7.7 3.  6.1 2.3]\n",
      " [5.8 2.7 5.1 1.9]\n",
      " [6.4 2.9 4.3 1.3]\n",
      " [4.3 3.  1.1 0.1]\n",
      " [6.9 3.2 5.7 2.3]\n",
      " [5.  2.  3.5 1. ]\n",
      " [6.1 2.6 5.6 1.4]\n",
      " [4.8 3.  1.4 0.1]\n",
      " [5.7 2.6 3.5 1. ]\n",
      " [5.5 2.6 4.4 1.2]\n",
      " [4.9 3.1 1.5 0.1]\n",
      " [6.  2.7 5.1 1.6]\n",
      " [4.9 3.1 1.5 0.1]\n",
      " [5.5 2.4 3.8 1.1]\n",
      " [5.8 2.7 3.9 1.2]\n",
      " [5.8 2.7 3.9 1.2]\n",
      " [5.4 3.7 1.5 0.2]\n",
      " [5.1 3.7 1.5 0.4]\n",
      " [6.4 3.1 5.5 1.8]\n",
      " [7.  3.2 4.7 1.4]\n",
      " [4.9 3.  1.4 0.2]\n",
      " [6.1 2.6 5.6 1.4]\n",
      " [6.3 2.5 4.9 1.5]\n",
      " [5.6 3.  4.1 1.3]\n",
      " [4.8 3.  1.4 0.3]\n",
      " [5.9 3.2 4.8 1.8]\n",
      " [6.6 3.  4.4 1.4]\n",
      " [6.  2.2 4.  1. ]\n",
      " [5.7 2.9 4.2 1.3]\n",
      " [5.1 3.3 1.7 0.5]\n",
      " [6.1 2.6 5.6 1.4]\n",
      " [7.7 3.8 6.7 2.2]\n",
      " [5.1 3.4 1.5 0.2]\n",
      " [6.1 2.6 5.6 1.4]\n",
      " [4.4 3.  1.3 0.2]\n",
      " [4.6 3.6 1.  0.2]\n",
      " [6.3 2.8 5.1 1.5]\n",
      " [6.  2.2 4.  1. ]\n",
      " [5.  2.  3.5 1. ]]\n"
     ]
    }
   ],
   "source": [
    "print(len(X_train))\n",
    "print(X_train)"
   ]
  },
  {
   "cell_type": "code",
   "execution_count": 207,
   "metadata": {},
   "outputs": [
    {
     "data": {
      "text/plain": [
       "(50, 4)"
      ]
     },
     "execution_count": 207,
     "metadata": {},
     "output_type": "execute_result"
    }
   ],
   "source": [
    "X_test.shape"
   ]
  },
  {
   "cell_type": "code",
   "execution_count": 208,
   "metadata": {},
   "outputs": [
    {
     "data": {
      "text/plain": [
       "array([[5.4, 3.4, 1.5, 0.4],\n",
       "       [5.6, 2.7, 4.2, 1.3],\n",
       "       [4.8, 3. , 1.4, 0.1],\n",
       "       [6.1, 3. , 4.9, 1.8],\n",
       "       [6.7, 3.1, 4.7, 1.5],\n",
       "       [6.3, 2.3, 4.4, 1.3],\n",
       "       [5.9, 3. , 4.2, 1.5],\n",
       "       [6. , 3.4, 4.5, 1.6],\n",
       "       [5.6, 3. , 4.1, 1.3],\n",
       "       [6. , 2.9, 4.5, 1.5],\n",
       "       [5.7, 2.9, 4.2, 1.3],\n",
       "       [6.3, 2.9, 5.6, 1.8],\n",
       "       [5.3, 3.7, 1.5, 0.2],\n",
       "       [4.6, 3.4, 1.4, 0.3],\n",
       "       [7.6, 3. , 6.6, 2.1],\n",
       "       [5.5, 2.4, 3.8, 1.1],\n",
       "       [5.4, 3.9, 1.7, 0.4],\n",
       "       [6.3, 2.9, 5.6, 1.8],\n",
       "       [5.9, 3.2, 4.8, 1.8],\n",
       "       [5.1, 3.5, 1.4, 0.2],\n",
       "       [7.4, 2.8, 6.1, 1.9],\n",
       "       [4.9, 3.1, 1.5, 0.1],\n",
       "       [6.1, 3. , 4.9, 1.8],\n",
       "       [6.5, 3. , 5.8, 2.2],\n",
       "       [5.8, 4. , 1.2, 0.2],\n",
       "       [5.8, 2.7, 5.1, 1.9],\n",
       "       [5.3, 3.7, 1.5, 0.2],\n",
       "       [6.1, 3. , 4.6, 1.4],\n",
       "       [5.5, 2.3, 4. , 1.3],\n",
       "       [5. , 3. , 1.6, 0.2],\n",
       "       [6.3, 2.5, 5. , 1.9],\n",
       "       [4.4, 2.9, 1.4, 0.2],\n",
       "       [5.7, 3. , 4.2, 1.2],\n",
       "       [6.2, 3.4, 5.4, 2.3],\n",
       "       [4.6, 3.2, 1.4, 0.2],\n",
       "       [5.2, 3.4, 1.4, 0.2],\n",
       "       [7.3, 2.9, 6.3, 1.8],\n",
       "       [7.7, 3.8, 6.7, 2.2],\n",
       "       [6. , 2.9, 4.5, 1.5],\n",
       "       [5.6, 2.9, 3.6, 1.3],\n",
       "       [6.2, 2.9, 4.3, 1.3],\n",
       "       [4.8, 3.1, 1.6, 0.2],\n",
       "       [5.7, 2.5, 5. , 2. ],\n",
       "       [6.4, 2.8, 5.6, 2.2],\n",
       "       [6.7, 3.1, 5.6, 2.4],\n",
       "       [6.3, 2.9, 5.6, 1.8],\n",
       "       [5.3, 3.7, 1.5, 0.2],\n",
       "       [5.7, 2.8, 4.5, 1.3],\n",
       "       [5.4, 3.9, 1.3, 0.4],\n",
       "       [4.8, 3.4, 1.6, 0.2]])"
      ]
     },
     "execution_count": 208,
     "metadata": {},
     "output_type": "execute_result"
    }
   ],
   "source": [
    "X_test"
   ]
  },
  {
   "cell_type": "code",
   "execution_count": 209,
   "metadata": {},
   "outputs": [
    {
     "data": {
      "text/plain": [
       "array([6.1, 2.6, 5.6, 1.4])"
      ]
     },
     "execution_count": 209,
     "metadata": {},
     "output_type": "execute_result"
    }
   ],
   "source": [
    "X_train[0]"
   ]
  },
  {
   "cell_type": "code",
   "execution_count": 210,
   "metadata": {},
   "outputs": [
    {
     "data": {
      "text/plain": [
       "array([5.6, 2.7, 4.2, 1.3])"
      ]
     },
     "execution_count": 210,
     "metadata": {},
     "output_type": "execute_result"
    }
   ],
   "source": [
    "X_test[1]"
   ]
  },
  {
   "cell_type": "code",
   "execution_count": 211,
   "metadata": {},
   "outputs": [],
   "source": [
    "def eucledian(p1,p2):\n",
    "    dist = np.sqrt(np.sum((p1-p2)**2))\n",
    "    return dist"
   ]
  },
  {
   "cell_type": "code",
   "execution_count": 212,
   "metadata": {},
   "outputs": [
    {
     "name": "stdout",
     "output_type": "stream",
     "text": [
      "[[0. 0. 0. ... 0. 0. 0.]\n",
      " [0. 0. 0. ... 0. 0. 0.]\n",
      " [0. 0. 0. ... 0. 0. 0.]\n",
      " ...\n",
      " [0. 0. 0. ... 0. 0. 0.]\n",
      " [0. 0. 0. ... 0. 0. 0.]\n",
      " [0. 0. 0. ... 0. 0. 0.]]\n"
     ]
    }
   ],
   "source": [
    "dis_matrix = np.zeros([len(X_train),len(X_test)])  # (100x50) zero matrix\n",
    "dis_matrix.shape\n",
    "print(dis_matrix)"
   ]
  },
  {
   "cell_type": "code",
   "execution_count": 213,
   "metadata": {},
   "outputs": [],
   "source": [
    "def get_nearest_nei(X_train,X_test):\n",
    "    #input: X_train, X_test\n",
    "    dis_matrix = np.zeros([len(X_train),len(X_test)])  # (100x50) zero matrix\n",
    "    \n",
    "    #Use Euclidian Distance Method\n",
    "    \n",
    "    for i in range(len(X_train)):  #len(X_train) (100 here) is equivalent to X_train.shape[0] -- Both Return the first dimension of the array\n",
    "        \n",
    "        for j in range(len(X_test)): # (X_test= 50 here)\n",
    "            \n",
    "            dis_matrix[i][j] = eucledian(X_train[i],X_test[j])    \n",
    "\n",
    "    return dis_matrix\n",
    "    #output: Distance Matrix: Distance of every point in X_test to every data point in X_train"
   ]
  },
  {
   "cell_type": "code",
   "execution_count": 214,
   "metadata": {},
   "outputs": [
    {
     "name": "stdout",
     "output_type": "stream",
     "text": [
      "(100, 50)\n",
      "[[4.35201103 1.49331845 4.6021734  ... 1.19163753 4.65510472 4.44634682]\n",
      " [0.81240384 3.21403174 0.48989795 ... 3.48998567 0.9539392  0.3       ]\n",
      " [3.47994253 1.09544512 3.86393582 ... 0.91104336 3.76031914 3.7013511 ]\n",
      " ...\n",
      " [3.91663121 1.161895   4.23556372 ... 0.87177979 4.20356991 4.06816912]\n",
      " [2.9        0.73484692 3.10644491 ... 0.88881944 3.3015148  3.04630924]\n",
      " [2.54558441 1.19582607 2.5019992  ... 1.48996644 2.99499583 2.5       ]]\n"
     ]
    }
   ],
   "source": [
    "dist_mat = get_nearest_nei(X_train,X_test)\n",
    "\n",
    "print(dist_mat.shape)\n",
    "print(dist_mat)"
   ]
  },
  {
   "cell_type": "code",
   "execution_count": 215,
   "metadata": {},
   "outputs": [
    {
     "data": {
      "text/plain": [
       "array([60, 45, 52, 57, 26], dtype=int64)"
      ]
     },
     "execution_count": 215,
     "metadata": {},
     "output_type": "execute_result"
    }
   ],
   "source": [
    "dist = np.argsort(dist_mat[:,0])[:5]\n",
    "dist"
   ]
  },
  {
   "cell_type": "code",
   "execution_count": 216,
   "metadata": {},
   "outputs": [
    {
     "data": {
      "text/plain": [
       "array([0, 0, 0, 0, 0])"
      ]
     },
     "execution_count": 216,
     "metadata": {},
     "output_type": "execute_result"
    }
   ],
   "source": [
    "labels = y_train[dist]\n",
    "labels"
   ]
  },
  {
   "cell_type": "code",
   "execution_count": 217,
   "metadata": {},
   "outputs": [
    {
     "data": {
      "text/plain": [
       "ModeResult(mode=array([0]), count=array([5]))"
      ]
     },
     "execution_count": 217,
     "metadata": {},
     "output_type": "execute_result"
    }
   ],
   "source": [
    "lab = mode(labels)\n",
    "lab"
   ]
  },
  {
   "cell_type": "code",
   "execution_count": 218,
   "metadata": {},
   "outputs": [
    {
     "data": {
      "text/plain": [
       "0.984885780179611"
      ]
     },
     "execution_count": 218,
     "metadata": {},
     "output_type": "execute_result"
    }
   ],
   "source": [
    "dist_mat[96][0]"
   ]
  },
  {
   "cell_type": "code",
   "execution_count": 219,
   "metadata": {},
   "outputs": [],
   "source": [
    "from scipy.stats import mode\n",
    "def KNN_scratch(k,X_train,y_train,X_test):\n",
    "    # input: k: k nearest neighbours,\n",
    "    # X_train and y_train: Training samples\n",
    "    # X_test: points to be predicted\n",
    "\n",
    "    y_pred = []\n",
    "\n",
    "    #Step 1 : Get Distance Matrix\n",
    "    dis_matrix = get_nearest_nei(X_train,X_test)\n",
    "\n",
    "    #Step 2: Find k Nearest Neighbours and their labels\n",
    "    for i in range(len(X_test)):  ## (X_test= 50 here)\n",
    "        \n",
    "        #Step 3: Find count of similiar labels from nearest neighbours\n",
    "        dist = np.argsort(dis_matrix[:,i])[:k] #For a particular test data, this gives 5 nearest train points\n",
    "        labels = y_train[dist]\n",
    "              \n",
    "        #Step 4: Assign max count labels as output to the point    \n",
    "        lab = mode(labels) \n",
    "        lab = lab.mode[0]\n",
    "        y_pred.append(lab)\n",
    "\n",
    "    # output: y_pred : cluster id for X_test\n",
    "    return y_pred"
   ]
  },
  {
   "cell_type": "code",
   "execution_count": 220,
   "metadata": {},
   "outputs": [],
   "source": [
    "y_pred = KNN_scratch(5,X_train,y_train,X_test)"
   ]
  },
  {
   "cell_type": "code",
   "execution_count": 221,
   "metadata": {},
   "outputs": [
    {
     "data": {
      "text/plain": [
       "[0,\n",
       " 1,\n",
       " 0,\n",
       " 2,\n",
       " 1,\n",
       " 1,\n",
       " 1,\n",
       " 1,\n",
       " 1,\n",
       " 1,\n",
       " 1,\n",
       " 2,\n",
       " 0,\n",
       " 0,\n",
       " 2,\n",
       " 1,\n",
       " 0,\n",
       " 2,\n",
       " 1,\n",
       " 0,\n",
       " 2,\n",
       " 0,\n",
       " 2,\n",
       " 2,\n",
       " 0,\n",
       " 2,\n",
       " 0,\n",
       " 1,\n",
       " 1,\n",
       " 0,\n",
       " 2,\n",
       " 0,\n",
       " 1,\n",
       " 2,\n",
       " 0,\n",
       " 0,\n",
       " 2,\n",
       " 2,\n",
       " 1,\n",
       " 1,\n",
       " 1,\n",
       " 0,\n",
       " 2,\n",
       " 2,\n",
       " 2,\n",
       " 2,\n",
       " 0,\n",
       " 1,\n",
       " 0,\n",
       " 0]"
      ]
     },
     "execution_count": 221,
     "metadata": {},
     "output_type": "execute_result"
    }
   ],
   "source": [
    "y_pred"
   ]
  },
  {
   "cell_type": "markdown",
   "metadata": {},
   "source": [
    "Model Selection"
   ]
  },
  {
   "cell_type": "code",
   "execution_count": 222,
   "metadata": {},
   "outputs": [],
   "source": [
    "def accuracy(y_true,y_pred):\n",
    "    acc = np.sum(np.equal(y_true, y_pred)) / len(y_true)\n",
    "    return acc"
   ]
  },
  {
   "cell_type": "code",
   "execution_count": 223,
   "metadata": {},
   "outputs": [
    {
     "data": {
      "image/png": "[encoded data removed]",
      "text/plain": [
       "<Figure size 432x288 with 1 Axes>"
      ]
     },
     "metadata": {
      "needs_background": "light"
     },
     "output_type": "display_data"
    }
   ],
   "source": [
    "ks = [1, 5, 10, 20, 50, 70, 79]\n",
    "train_errs = []\n",
    "test_errs = []\n",
    "for k in ks:\n",
    "  y_train_pred = KNN_scratch(k,X_train,y_train,X_train)\n",
    "  y_pred = KNN_scratch(k,X_train,y_train,X_test)\n",
    "  train_errs.append(1 - accuracy(y_train, y_train_pred))\n",
    "  test_errs.append(1 - accuracy(y_test, y_pred))\n",
    "plt.figure()\n",
    "plt.plot(ks, train_errs, 'bs:', label='train')\n",
    "plt.plot(ks, test_errs, 'rx-', label='test')\n",
    "plt.legend()\n",
    "plt.xlabel('k')\n",
    "plt.ylabel('misclassification rate')\n",
    "\n",
    "plt.show()"
   ]
  },
  {
   "cell_type": "code",
   "execution_count": null,
   "metadata": {},
   "outputs": [],
   "source": []
  }
 ],
 "metadata": {
  "colab": {
   "collapsed_sections": [
    "5REvQfpl_4tw",
    "vxyoG2S2DBLv",
    "GNJBoOBdDGhW",
    "jQO_6ek-HfqH"
   ],
   "name": "AU1940131_Vishwa_L5.ipynb",
   "provenance": []
  },
  "kernelspec": {
   "display_name": "Python 3 (ipykernel)",
   "language": "python",
   "name": "python3"
  },
  "language_info": {
   "codemirror_mode": {
    "name": "ipython",
    "version": 3
   },
   "file_extension": ".py",
   "mimetype": "text/x-python",
   "name": "python",
   "nbconvert_exporter": "python",
   "pygments_lexer": "ipython3",
   "version": "3.9.7"
  }
 },
 "nbformat": 4,
 "nbformat_minor": 1
}
