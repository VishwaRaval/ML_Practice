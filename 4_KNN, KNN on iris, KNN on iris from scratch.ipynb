{
 "cells": [
  {
   "cell_type": "code",
   "execution_count": null,
   "metadata": {
    "id": "CIJYSXFkTMEs"
   },
   "outputs": [],
   "source": [
    "# KNN classifier applied to 2d dataset with 3 classes\n",
    "\n",
    "import numpy as np\n",
    "import matplotlib.pyplot as plt\n",
    "from sklearn.neighbors import KNeighborsClassifier as KNN\n",
    "from sklearn.model_selection import cross_val_score\n",
    "from sklearn.datasets import make_blobs,load_iris\n",
    "from sklearn.model_selection import train_test_split\n",
    "import pandas as pd\n",
    "\n"
   ]
  },
  {
   "cell_type": "markdown",
   "metadata": {
    "id": "NE6rrLKe_-LR"
   },
   "source": [
    "#KNN (K Nearest Neighbours)"
   ]
  },
  {
   "cell_type": "markdown",
   "metadata": {
    "id": "e6vyLk1jAUSV"
   },
   "source": [
    "Data Generation"
   ]
  },
  {
   "cell_type": "code",
   "execution_count": null,
   "metadata": {
    "id": "pfBjaYsOANZt"
   },
   "outputs": [],
   "source": [
    "X, y = make_blobs(n_samples=300, centers=3, n_features=2, cluster_std=6, random_state=42)\n",
    "ntrain = 100\n",
    "\n",
    "#first 100 dataset assigned as training data\n",
    "x_train = X[:ntrain] #for input\n",
    "y_train = y[:ntrain] #for output\n",
    "\n",
    "# 101 onwards rest of the set is test set\n",
    "x_test = X[ntrain:] #for input\n",
    "y_test = y[ntrain:] #for output\n"
   ]
  },
  {
   "cell_type": "code",
   "execution_count": null,
   "metadata": {
    "colab": {
     "base_uri": "https://localhost:8080/"
    },
    "id": "0CGQNTIZh2tG",
    "outputId": "a0220158-9ce0-4206-a5b5-630224947b5f"
   },
   "outputs": [
    {
     "name": "stdout",
     "output_type": "stream",
     "text": [
      "-11.979175810064698\n"
     ]
    },
    {
     "data": {
      "text/plain": [
       "array([[ -9.63579259, -11.97917581],\n",
       "       [-12.04210738,  -9.18744286],\n",
       "       [  2.42607185,   1.68922423],\n",
       "       [  3.33379162,   8.5658308 ],\n",
       "       [-19.1083744 , -12.92862746],\n",
       "       [  9.78583658,   1.0135385 ],\n",
       "       [ -1.47011207,  11.32619041],\n",
       "       [  7.11746756,  -1.40917763],\n",
       "       [ -5.38424305,   7.90033227],\n",
       "       [ -9.65701861,  12.95360778],\n",
       "       [ -6.1194373 ,  20.12795524],\n",
       "       [  6.78197175,  -2.18428789],\n",
       "       [ -1.25601605,  -2.74373462],\n",
       "       [-11.00142208,   6.49041419],\n",
       "       [-10.78348261,  -9.8028619 ],\n",
       "       [ -6.72151619,   7.04831325],\n",
       "       [-16.64488182,  -6.59159991],\n",
       "       [ -7.51097668,   3.09189557],\n",
       "       [ -1.92673233,  14.82615607],\n",
       "       [  1.01194494,  22.15701988],\n",
       "       [  4.44237585,   4.09019222],\n",
       "       [ -3.47691189,  11.43859127],\n",
       "       [ 10.49059724,   1.09082539],\n",
       "       [ -7.55359549,  -8.20592719],\n",
       "       [ -5.28970378,   6.21990761],\n",
       "       [ -3.70080212,   1.76930213],\n",
       "       [-10.34025517,  -2.34776224],\n",
       "       [ -0.26944526,  14.52749334],\n",
       "       [  4.5663982 ,  -3.41035654],\n",
       "       [ -7.8462842 ,   4.11942442],\n",
       "       [ -8.45241557,   5.61649975],\n",
       "       [ -8.93455261,  11.90912062],\n",
       "       [ -1.89761229, -12.01661255],\n",
       "       [ -1.22463516,   1.53985346],\n",
       "       [-15.97077356,   1.32113601],\n",
       "       [ -1.14443802,  16.85714265],\n",
       "       [ -2.33769549, -12.41310154],\n",
       "       [  6.10967826,  -1.06848937],\n",
       "       [ -7.52180935, -13.09156353],\n",
       "       [  6.69041469,  13.23019472],\n",
       "       [ 12.24134573,  -2.27284711],\n",
       "       [ -0.96389528,   8.56761063],\n",
       "       [ -9.80526454,  -9.47545872],\n",
       "       [  3.95263976,   9.40006756],\n",
       "       [ -2.71746824,   2.0022179 ],\n",
       "       [ -0.34082399,  18.24250553],\n",
       "       [ -6.45022977,  -9.74605427],\n",
       "       [  1.72769755,   2.46441452],\n",
       "       [ -4.85401122,  -9.35137139],\n",
       "       [ 14.15597973,  -5.45372331],\n",
       "       [  5.09470619,  -2.08980059],\n",
       "       [ -6.92746304,   1.99955524],\n",
       "       [ -4.68003771, -12.51938831],\n",
       "       [  6.35816665,   5.90466482],\n",
       "       [  0.19615591,  -6.4749987 ],\n",
       "       [  7.73016495,  25.08955863],\n",
       "       [ -4.51291434,  -9.40601648],\n",
       "       [  3.27105915,  11.49097169],\n",
       "       [  5.32098291,   5.94595373],\n",
       "       [ -5.27303025,  15.35701949],\n",
       "       [ -5.46593984,  -2.25491843],\n",
       "       [ 17.43807908,  -9.73935711],\n",
       "       [ 10.03747809,   3.81696681],\n",
       "       [ 11.59365766,  -0.16266012],\n",
       "       [ -8.37341208,  -1.05068389],\n",
       "       [ -0.75060919,   4.92468471],\n",
       "       [  0.32921351,   0.69248677],\n",
       "       [ -2.60993792, -13.62796214],\n",
       "       [-17.09992183,  -7.21339579],\n",
       "       [ -8.88301991,  11.85584071],\n",
       "       [ 12.47275168,   2.09919273],\n",
       "       [ -0.52908027, -17.43254651],\n",
       "       [-11.07798024,  -5.59623013],\n",
       "       [  0.33022812,   8.57731265],\n",
       "       [ -4.86184654,   0.23319644],\n",
       "       [ -5.25688624,  -7.18153825],\n",
       "       [-19.28427979,  -7.41482983],\n",
       "       [  0.08508287,   2.8755324 ],\n",
       "       [ -6.11302976,   7.26412363],\n",
       "       [ 11.71651956,  -0.84188423],\n",
       "       [ -8.58618435,  10.89977012],\n",
       "       [ -2.94125835,  15.03548352],\n",
       "       [ -3.87412407, -12.74544106],\n",
       "       [ -0.52161703,  14.86755689],\n",
       "       [ 10.34242187,  -1.48825225],\n",
       "       [ -1.86547452, -13.65835072],\n",
       "       [  0.12706518,  -5.35358453],\n",
       "       [  8.68544944,  11.85728365],\n",
       "       [ 15.23260428,   4.40305995],\n",
       "       [-10.77521383,   3.38733589],\n",
       "       [-16.89605888,  -3.61994844],\n",
       "       [ -2.72415386,  18.40214806],\n",
       "       [ -4.00574824,  -4.87813696],\n",
       "       [  2.98321508,  10.98679279],\n",
       "       [ -5.68775885,  12.09389073],\n",
       "       [-10.20152302, -14.06737695],\n",
       "       [-13.28534977,  -7.7343865 ],\n",
       "       [ -0.94990086,  13.70522336],\n",
       "       [-11.45918213, -17.7094022 ],\n",
       "       [ -4.39901777,   4.38066528]])"
      ]
     },
     "execution_count": 15,
     "metadata": {},
     "output_type": "execute_result"
    }
   ],
   "source": [
    "print(x_train[0,1])\n",
    "x_train"
   ]
  },
  {
   "cell_type": "markdown",
   "metadata": {
    "id": "MNc4zbaVAe6c"
   },
   "source": [
    "Visualization Train Data Cluster"
   ]
  },
  {
   "cell_type": "code",
   "execution_count": null,
   "metadata": {
    "colab": {
     "base_uri": "https://localhost:8080/",
     "height": 296
    },
    "id": "lPmGU6DSATPG",
    "outputId": "59960790-427c-4d81-c255-c6c436dfed98"
   },
   "outputs": [
    {
     "data": {
      "image/png": "[encoded data removed]",
      "text/plain": [
       "<Figure size 432x288 with 1 Axes>"
      ]
     },
     "metadata": {
      "needs_background": "light"
     },
     "output_type": "display_data"
    }
   ],
   "source": [
    "plt.figure()\n",
    "y_unique = np.unique(y_train) # Returns the sorted unique elements of the array y_train (Since we've kept centres=3, in our case y_unique = [0, 1, 2])\n",
    "markers = '*x+'\n",
    "colors = 'bgr'\n",
    "for i in range(len(y_unique)): #for i in 0,1 and 2\n",
    "  plt.scatter(x_train[y_train == y_unique[i], 0],  \n",
    "             x_train[y_train == y_unique[i], 1],\n",
    "             marker=markers[i],\n",
    "             c=colors[i]) # x=x_train[y_train == y_unique[i], 0], y=x_train[y_train == y_unique[i], 1] ==> x axis is feature 0 and y axis is feature 1\n",
    "plt.title('train')\n",
    "plt.xlabel('1st feature values or x_1')\n",
    "plt.ylabel('2nd feature values or x_2')\n",
    "\n",
    "plt.show()"
   ]
  },
  {
   "cell_type": "code",
   "execution_count": null,
   "metadata": {
    "colab": {
     "base_uri": "https://localhost:8080/"
    },
    "id": "gN1dbgTolAeS",
    "outputId": "a8d2d547-ebdc-4919-d467-dd6a0476c62d"
   },
   "outputs": [
    {
     "data": {
      "text/plain": [
       "array([  2.42607185,  -1.47011207,  -5.38424305,  -9.65701861,\n",
       "        -6.1194373 ,  -1.25601605, -11.00142208,  -6.72151619,\n",
       "        -1.92673233,   1.01194494,   4.44237585,  -3.47691189,\n",
       "        -5.28970378,  -7.8462842 ,  -8.45241557,  -8.93455261,\n",
       "        -1.22463516,  -1.14443802,  -0.96389528,  -2.71746824,\n",
       "        -0.34082399,   6.35816665,   3.27105915,  -5.27303025,\n",
       "        -8.88301991,   0.33022812,  -4.86184654,  -6.11302976,\n",
       "        -8.58618435,  -2.94125835,  -0.52161703,   8.68544944,\n",
       "       -10.77521383,  -2.72415386,   2.98321508,  -5.68775885,\n",
       "        -0.94990086])"
      ]
     },
     "execution_count": 18,
     "metadata": {},
     "output_type": "execute_result"
    }
   ],
   "source": [
    "# Checking and understanding x_train[y_train == y_unique[i], 0]\n",
    "x_train[y_train == y_unique[0], 0]"
   ]
  },
  {
   "cell_type": "code",
   "execution_count": null,
   "metadata": {
    "colab": {
     "base_uri": "https://localhost:8080/"
    },
    "id": "NXQs0a_hisAR",
    "outputId": "62d58019-b98a-4112-aa1e-dcf0239d7fef"
   },
   "outputs": [
    {
     "data": {
      "text/plain": [
       "array([2, 2, 0, 1, 2, 1, 0, 1, 0, 0, 0, 1, 0, 0, 2, 0, 2, 1, 0, 0, 0, 0,\n",
       "       1, 2, 0, 2, 2, 1, 1, 0, 0, 0, 2, 0, 2, 0, 2, 1, 2, 1, 1, 0, 2, 1,\n",
       "       0, 0, 2, 1, 2, 1, 1, 2, 2, 0, 2, 1, 2, 0, 1, 0, 2, 1, 1, 2, 2, 1,\n",
       "       1, 2, 2, 0, 1, 2, 2, 0, 0, 2, 2, 1, 0, 1, 0, 0, 2, 0, 1, 2, 2, 0,\n",
       "       1, 0, 2, 0, 2, 0, 0, 2, 2, 0, 2, 2])"
      ]
     },
     "execution_count": 19,
     "metadata": {},
     "output_type": "execute_result"
    }
   ],
   "source": [
    "# Checking and understanding x_train[y_train == y_unique[i], 0]\n",
    "y_train"
   ]
  },
  {
   "cell_type": "code",
   "execution_count": null,
   "metadata": {
    "colab": {
     "base_uri": "https://localhost:8080/"
    },
    "id": "YfOpw9bnlU55",
    "outputId": "d9f32074-61b7-4d1a-e97f-6e6d794dcaa3"
   },
   "outputs": [
    {
     "data": {
      "text/plain": [
       "array([[ -9.63579259, -11.97917581],\n",
       "       [-12.04210738,  -9.18744286],\n",
       "       [  2.42607185,   1.68922423],\n",
       "       [  3.33379162,   8.5658308 ],\n",
       "       [-19.1083744 , -12.92862746],\n",
       "       [  9.78583658,   1.0135385 ],\n",
       "       [ -1.47011207,  11.32619041],\n",
       "       [  7.11746756,  -1.40917763],\n",
       "       [ -5.38424305,   7.90033227],\n",
       "       [ -9.65701861,  12.95360778],\n",
       "       [ -6.1194373 ,  20.12795524],\n",
       "       [  6.78197175,  -2.18428789],\n",
       "       [ -1.25601605,  -2.74373462],\n",
       "       [-11.00142208,   6.49041419],\n",
       "       [-10.78348261,  -9.8028619 ],\n",
       "       [ -6.72151619,   7.04831325],\n",
       "       [-16.64488182,  -6.59159991],\n",
       "       [ -7.51097668,   3.09189557],\n",
       "       [ -1.92673233,  14.82615607],\n",
       "       [  1.01194494,  22.15701988],\n",
       "       [  4.44237585,   4.09019222],\n",
       "       [ -3.47691189,  11.43859127],\n",
       "       [ 10.49059724,   1.09082539],\n",
       "       [ -7.55359549,  -8.20592719],\n",
       "       [ -5.28970378,   6.21990761],\n",
       "       [ -3.70080212,   1.76930213],\n",
       "       [-10.34025517,  -2.34776224],\n",
       "       [ -0.26944526,  14.52749334],\n",
       "       [  4.5663982 ,  -3.41035654],\n",
       "       [ -7.8462842 ,   4.11942442],\n",
       "       [ -8.45241557,   5.61649975],\n",
       "       [ -8.93455261,  11.90912062],\n",
       "       [ -1.89761229, -12.01661255],\n",
       "       [ -1.22463516,   1.53985346],\n",
       "       [-15.97077356,   1.32113601],\n",
       "       [ -1.14443802,  16.85714265],\n",
       "       [ -2.33769549, -12.41310154],\n",
       "       [  6.10967826,  -1.06848937],\n",
       "       [ -7.52180935, -13.09156353],\n",
       "       [  6.69041469,  13.23019472],\n",
       "       [ 12.24134573,  -2.27284711],\n",
       "       [ -0.96389528,   8.56761063],\n",
       "       [ -9.80526454,  -9.47545872],\n",
       "       [  3.95263976,   9.40006756],\n",
       "       [ -2.71746824,   2.0022179 ],\n",
       "       [ -0.34082399,  18.24250553],\n",
       "       [ -6.45022977,  -9.74605427],\n",
       "       [  1.72769755,   2.46441452],\n",
       "       [ -4.85401122,  -9.35137139],\n",
       "       [ 14.15597973,  -5.45372331],\n",
       "       [  5.09470619,  -2.08980059],\n",
       "       [ -6.92746304,   1.99955524],\n",
       "       [ -4.68003771, -12.51938831],\n",
       "       [  6.35816665,   5.90466482],\n",
       "       [  0.19615591,  -6.4749987 ],\n",
       "       [  7.73016495,  25.08955863],\n",
       "       [ -4.51291434,  -9.40601648],\n",
       "       [  3.27105915,  11.49097169],\n",
       "       [  5.32098291,   5.94595373],\n",
       "       [ -5.27303025,  15.35701949],\n",
       "       [ -5.46593984,  -2.25491843],\n",
       "       [ 17.43807908,  -9.73935711],\n",
       "       [ 10.03747809,   3.81696681],\n",
       "       [ 11.59365766,  -0.16266012],\n",
       "       [ -8.37341208,  -1.05068389],\n",
       "       [ -0.75060919,   4.92468471],\n",
       "       [  0.32921351,   0.69248677],\n",
       "       [ -2.60993792, -13.62796214],\n",
       "       [-17.09992183,  -7.21339579],\n",
       "       [ -8.88301991,  11.85584071],\n",
       "       [ 12.47275168,   2.09919273],\n",
       "       [ -0.52908027, -17.43254651],\n",
       "       [-11.07798024,  -5.59623013],\n",
       "       [  0.33022812,   8.57731265],\n",
       "       [ -4.86184654,   0.23319644],\n",
       "       [ -5.25688624,  -7.18153825],\n",
       "       [-19.28427979,  -7.41482983],\n",
       "       [  0.08508287,   2.8755324 ],\n",
       "       [ -6.11302976,   7.26412363],\n",
       "       [ 11.71651956,  -0.84188423],\n",
       "       [ -8.58618435,  10.89977012],\n",
       "       [ -2.94125835,  15.03548352],\n",
       "       [ -3.87412407, -12.74544106],\n",
       "       [ -0.52161703,  14.86755689],\n",
       "       [ 10.34242187,  -1.48825225],\n",
       "       [ -1.86547452, -13.65835072],\n",
       "       [  0.12706518,  -5.35358453],\n",
       "       [  8.68544944,  11.85728365],\n",
       "       [ 15.23260428,   4.40305995],\n",
       "       [-10.77521383,   3.38733589],\n",
       "       [-16.89605888,  -3.61994844],\n",
       "       [ -2.72415386,  18.40214806],\n",
       "       [ -4.00574824,  -4.87813696],\n",
       "       [  2.98321508,  10.98679279],\n",
       "       [ -5.68775885,  12.09389073],\n",
       "       [-10.20152302, -14.06737695],\n",
       "       [-13.28534977,  -7.7343865 ],\n",
       "       [ -0.94990086,  13.70522336],\n",
       "       [-11.45918213, -17.7094022 ],\n",
       "       [ -4.39901777,   4.38066528]])"
      ]
     },
     "execution_count": 20,
     "metadata": {},
     "output_type": "execute_result"
    }
   ],
   "source": [
    "# Checking and understanding x_train[y_train == y_unique[i], 0]\n",
    "x_train"
   ]
  },
  {
   "cell_type": "markdown",
   "metadata": {
    "id": "kXY6jDS4AlTG"
   },
   "source": [
    "KNN Model with Cluster boundaries"
   ]
  },
  {
   "cell_type": "code",
   "execution_count": null,
   "metadata": {
    "colab": {
     "base_uri": "https://localhost:8080/",
     "height": 809
    },
    "id": "ZBHEUtYXAu3r",
    "outputId": "5b08630a-4bc0-432d-8791-e217578aaa45"
   },
   "outputs": [
    {
     "data": {
      "image/png": "[encoded data removed]",
      "text/plain": [
       "<Figure size 432x288 with 1 Axes>"
      ]
     },
     "metadata": {
      "needs_background": "light"
     },
     "output_type": "display_data"
    },
    {
     "data": {
      "image/png": "[encoded data removed]",
      "text/plain": [
       "<Figure size 432x288 with 1 Axes>"
      ]
     },
     "metadata": {
      "needs_background": "light"
     },
     "output_type": "display_data"
    },
    {
     "data": {
      "image/png": "[encoded data removed]",
      "text/plain": [
       "<Figure size 432x288 with 1 Axes>"
      ]
     },
     "metadata": {
      "needs_background": "light"
     },
     "output_type": "display_data"
    }
   ],
   "source": [
    "x = np.linspace(np.min(x_test[:, 0]), np.max(x_test[:, 0]), 100)\n",
    "y = np.linspace(np.min(x_test[:, 1]), np.max(x_test[:, 1]), 100)\n",
    "xx, yy = np.meshgrid(x, y) # Return coordinate matrices from coordinate vectors.\n",
    "xy = np.c_[xx.ravel(), yy.ravel()]\n",
    "\n",
    "\n",
    "# use the knn model to predict\n",
    "for k in [1, 2, 5]:\n",
    "  knn = KNN(n_neighbors=k)\n",
    "  knn.fit(x_train, y_train)\n",
    "  plt.figure()\n",
    "  y_predicted = knn.predict(xy)\n",
    "  \n",
    "  plt.pcolormesh(xx, yy, y_predicted.reshape(100, 100), cmap='jet', alpha=0.2)\n",
    "\n",
    "  for i in range(len(y_unique)):\n",
    "      plt.scatter(x_train[y_train == y_unique[i], 0],\n",
    "                 x_train[y_train == y_unique[i], 1],\n",
    "                 marker=markers[i],\n",
    "                 c=colors[i])\n",
    "  plt.title('k=%s' % (k))\n",
    "\n",
    "  plt.show()"
   ]
  },
  {
   "cell_type": "code",
   "execution_count": null,
   "metadata": {
    "colab": {
     "base_uri": "https://localhost:8080/"
    },
    "id": "Is3VFJ6Kw6t5",
    "outputId": "cb7d6412-c290-4e9a-bd06-1f2c25f6625a"
   },
   "outputs": [
    {
     "data": {
      "text/plain": [
       "array([[-21.70949419, -21.30305657, -20.89661895, ...,  17.714955  ,\n",
       "         18.12139262,  18.52783024],\n",
       "       [-21.70949419, -21.30305657, -20.89661895, ...,  17.714955  ,\n",
       "         18.12139262,  18.52783024],\n",
       "       [-21.70949419, -21.30305657, -20.89661895, ...,  17.714955  ,\n",
       "         18.12139262,  18.52783024],\n",
       "       ...,\n",
       "       [-21.70949419, -21.30305657, -20.89661895, ...,  17.714955  ,\n",
       "         18.12139262,  18.52783024],\n",
       "       [-21.70949419, -21.30305657, -20.89661895, ...,  17.714955  ,\n",
       "         18.12139262,  18.52783024],\n",
       "       [-21.70949419, -21.30305657, -20.89661895, ...,  17.714955  ,\n",
       "         18.12139262,  18.52783024]])"
      ]
     },
     "execution_count": 33,
     "metadata": {},
     "output_type": "execute_result"
    }
   ],
   "source": [
    "xx"
   ]
  },
  {
   "cell_type": "code",
   "execution_count": null,
   "metadata": {
    "colab": {
     "base_uri": "https://localhost:8080/"
    },
    "id": "qkXeK0w5xJhb",
    "outputId": "b3778041-7e83-446e-9a67-4a53a6e0a967"
   },
   "outputs": [
    {
     "data": {
      "text/plain": [
       "array([-21.70949419, -21.30305657, -20.89661895, -20.49018133,\n",
       "       -20.08374371, -19.67730609, -19.27086847, -18.86443085,\n",
       "       -18.45799323, -18.05155561, -17.64511799, -17.23868037,\n",
       "       -16.83224275, -16.42580513, -16.01936751, -15.61292988,\n",
       "       -15.20649226, -14.80005464, -14.39361702, -13.9871794 ,\n",
       "       -13.58074178, -13.17430416, -12.76786654, -12.36142892,\n",
       "       -11.9549913 , -11.54855368, -11.14211606, -10.73567844,\n",
       "       -10.32924082,  -9.9228032 ,  -9.51636558,  -9.10992796,\n",
       "        -8.70349034,  -8.29705272,  -7.8906151 ,  -7.48417747,\n",
       "        -7.07773985,  -6.67130223,  -6.26486461,  -5.85842699,\n",
       "        -5.45198937,  -5.04555175,  -4.63911413,  -4.23267651,\n",
       "        -3.82623889,  -3.41980127,  -3.01336365,  -2.60692603,\n",
       "        -2.20048841,  -1.79405079,  -1.38761317,  -0.98117555,\n",
       "        -0.57473793,  -0.16830031,   0.23813731,   0.64457493,\n",
       "         1.05101256,   1.45745018,   1.8638878 ,   2.27032542,\n",
       "         2.67676304,   3.08320066,   3.48963828,   3.8960759 ,\n",
       "         4.30251352,   4.70895114,   5.11538876,   5.52182638,\n",
       "         5.928264  ,   6.33470162,   6.74113924,   7.14757686,\n",
       "         7.55401448,   7.9604521 ,   8.36688972,   8.77332734,\n",
       "         9.17976497,   9.58620259,   9.99264021,  10.39907783,\n",
       "        10.80551545,  11.21195307,  11.61839069,  12.02482831,\n",
       "        12.43126593,  12.83770355,  13.24414117,  13.65057879,\n",
       "        14.05701641,  14.46345403,  14.86989165,  15.27632927,\n",
       "        15.68276689,  16.08920451,  16.49564213,  16.90207975,\n",
       "        17.30851737,  17.714955  ,  18.12139262,  18.52783024])"
      ]
     },
     "execution_count": 34,
     "metadata": {},
     "output_type": "execute_result"
    }
   ],
   "source": [
    "x"
   ]
  },
  {
   "cell_type": "markdown",
   "metadata": {
    "id": "B0CZW0OPBmfG"
   },
   "source": [
    "Model Selection"
   ]
  },
  {
   "cell_type": "code",
   "execution_count": null,
   "metadata": {
    "colab": {
     "base_uri": "https://localhost:8080/"
    },
    "id": "D3mfje80xMAW",
    "outputId": "72941567-6901-480f-f8b2-74cbbfcae006"
   },
   "outputs": [
    {
     "data": {
      "text/plain": [
       "array([-20.69163658, -20.22671802, -19.76179946, -19.29688089,\n",
       "       -18.83196233, -18.36704377, -17.90212521, -17.43720664,\n",
       "       -16.97228808, -16.50736952, -16.04245095, -15.57753239,\n",
       "       -15.11261383, -14.64769527, -14.1827767 , -13.71785814,\n",
       "       -13.25293958, -12.78802102, -12.32310245, -11.85818389,\n",
       "       -11.39326533, -10.92834676, -10.4634282 ,  -9.99850964,\n",
       "        -9.53359108,  -9.06867251,  -8.60375395,  -8.13883539,\n",
       "        -7.67391683,  -7.20899826,  -6.7440797 ,  -6.27916114,\n",
       "        -5.81424257,  -5.34932401,  -4.88440545,  -4.41948689,\n",
       "        -3.95456832,  -3.48964976,  -3.0247312 ,  -2.55981264,\n",
       "        -2.09489407,  -1.62997551,  -1.16505695,  -0.70013838,\n",
       "        -0.23521982,   0.22969874,   0.6946173 ,   1.15953587,\n",
       "         1.62445443,   2.08937299,   2.55429155,   3.01921012,\n",
       "         3.48412868,   3.94904724,   4.41396581,   4.87888437,\n",
       "         5.34380293,   5.80872149,   6.27364006,   6.73855862,\n",
       "         7.20347718,   7.66839574,   8.13331431,   8.59823287,\n",
       "         9.06315143,   9.52807   ,   9.99298856,  10.45790712,\n",
       "        10.92282568,  11.38774425,  11.85266281,  12.31758137,\n",
       "        12.78249993,  13.2474185 ,  13.71233706,  14.17725562,\n",
       "        14.64217419,  15.10709275,  15.57201131,  16.03692987,\n",
       "        16.50184844,  16.966767  ,  17.43168556,  17.89660412,\n",
       "        18.36152269,  18.82644125,  19.29135981,  19.75627838,\n",
       "        20.22119694,  20.6861155 ,  21.15103406,  21.61595263,\n",
       "        22.08087119,  22.54578975,  23.01070831,  23.47562688,\n",
       "        23.94054544,  24.405464  ,  24.87038257,  25.33530113])"
      ]
     },
     "execution_count": 35,
     "metadata": {},
     "output_type": "execute_result"
    }
   ],
   "source": [
    "y"
   ]
  },
  {
   "cell_type": "code",
   "execution_count": null,
   "metadata": {
    "colab": {
     "base_uri": "https://localhost:8080/"
    },
    "id": "an_qXOtUxjEG",
    "outputId": "1df90cb2-38c2-4aa2-88f8-791ca13b710a"
   },
   "outputs": [
    {
     "data": {
      "text/plain": [
       "array([[-20.69163658, -20.69163658, -20.69163658, ..., -20.69163658,\n",
       "        -20.69163658, -20.69163658],\n",
       "       [-20.22671802, -20.22671802, -20.22671802, ..., -20.22671802,\n",
       "        -20.22671802, -20.22671802],\n",
       "       [-19.76179946, -19.76179946, -19.76179946, ..., -19.76179946,\n",
       "        -19.76179946, -19.76179946],\n",
       "       ...,\n",
       "       [ 24.405464  ,  24.405464  ,  24.405464  , ...,  24.405464  ,\n",
       "         24.405464  ,  24.405464  ],\n",
       "       [ 24.87038257,  24.87038257,  24.87038257, ...,  24.87038257,\n",
       "         24.87038257,  24.87038257],\n",
       "       [ 25.33530113,  25.33530113,  25.33530113, ...,  25.33530113,\n",
       "         25.33530113,  25.33530113]])"
      ]
     },
     "execution_count": 36,
     "metadata": {},
     "output_type": "execute_result"
    }
   ],
   "source": [
    "yy"
   ]
  },
  {
   "cell_type": "code",
   "execution_count": null,
   "metadata": {
    "colab": {
     "base_uri": "https://localhost:8080/"
    },
    "id": "eTI7anK7y8x5",
    "outputId": "3e0f549a-7506-42a2-a70f-19b335944352"
   },
   "outputs": [
    {
     "data": {
      "text/plain": [
       "array([[-21.70949419, -20.69163658],\n",
       "       [-21.30305657, -20.69163658],\n",
       "       [-20.89661895, -20.69163658],\n",
       "       ...,\n",
       "       [ 17.714955  ,  25.33530113],\n",
       "       [ 18.12139262,  25.33530113],\n",
       "       [ 18.52783024,  25.33530113]])"
      ]
     },
     "execution_count": 37,
     "metadata": {},
     "output_type": "execute_result"
    }
   ],
   "source": [
    "xy"
   ]
  },
  {
   "cell_type": "code",
   "execution_count": null,
   "metadata": {
    "colab": {
     "base_uri": "https://localhost:8080/"
    },
    "id": "MA23vW0kzF-G",
    "outputId": "01ab09b2-a599-4449-f24d-f5319a5503a1"
   },
   "outputs": [
    {
     "data": {
      "text/plain": [
       "(10000, 2)"
      ]
     },
     "execution_count": 51,
     "metadata": {},
     "output_type": "execute_result"
    }
   ],
   "source": [
    "xy.shape"
   ]
  },
  {
   "cell_type": "code",
   "execution_count": null,
   "metadata": {
    "colab": {
     "base_uri": "https://localhost:8080/",
     "height": 380
    },
    "id": "sHAs0ZadBtCP",
    "outputId": "c3e5af06-e1a0-417a-c46e-ccedc2511d11"
   },
   "outputs": [
    {
     "ename": "ValueError",
     "evalue": "ignored",
     "output_type": "error",
     "traceback": [
      "\u001b[0;31m---------------------------------------------------------------------------\u001b[0m",
      "\u001b[0;31mValueError\u001b[0m                                Traceback (most recent call last)",
      "\u001b[0;32m<ipython-input-71-57d7e1acfaef>\u001b[0m in \u001b[0;36m<module>\u001b[0;34m()\u001b[0m\n\u001b[1;32m      6\u001b[0m   \u001b[0mknn\u001b[0m\u001b[0;34m.\u001b[0m\u001b[0mfit\u001b[0m\u001b[0;34m(\u001b[0m\u001b[0mx_train\u001b[0m\u001b[0;34m,\u001b[0m \u001b[0my_train\u001b[0m\u001b[0;34m)\u001b[0m\u001b[0;34m\u001b[0m\u001b[0;34m\u001b[0m\u001b[0m\n\u001b[1;32m      7\u001b[0m   \u001b[0mtrain_errs\u001b[0m\u001b[0;34m.\u001b[0m\u001b[0mappend\u001b[0m\u001b[0;34m(\u001b[0m\u001b[0;36m1\u001b[0m \u001b[0;34m-\u001b[0m \u001b[0mknn\u001b[0m\u001b[0;34m.\u001b[0m\u001b[0mscore\u001b[0m\u001b[0;34m(\u001b[0m\u001b[0mx_train\u001b[0m\u001b[0;34m,\u001b[0m \u001b[0my_train\u001b[0m\u001b[0;34m)\u001b[0m\u001b[0;34m)\u001b[0m\u001b[0;34m\u001b[0m\u001b[0;34m\u001b[0m\u001b[0m\n\u001b[0;32m----> 8\u001b[0;31m   \u001b[0mtest_errs\u001b[0m\u001b[0;34m.\u001b[0m\u001b[0mappend\u001b[0m\u001b[0;34m(\u001b[0m\u001b[0;36m1\u001b[0m \u001b[0;34m-\u001b[0m \u001b[0mknn\u001b[0m\u001b[0;34m.\u001b[0m\u001b[0mscore\u001b[0m\u001b[0;34m(\u001b[0m\u001b[0mx_test\u001b[0m\u001b[0;34m,\u001b[0m \u001b[0my_test\u001b[0m\u001b[0;34m)\u001b[0m\u001b[0;34m)\u001b[0m\u001b[0;34m\u001b[0m\u001b[0;34m\u001b[0m\u001b[0m\n\u001b[0m\u001b[1;32m      9\u001b[0m \u001b[0mplt\u001b[0m\u001b[0;34m.\u001b[0m\u001b[0mfigure\u001b[0m\u001b[0;34m(\u001b[0m\u001b[0;34m)\u001b[0m\u001b[0;34m\u001b[0m\u001b[0;34m\u001b[0m\u001b[0m\n\u001b[1;32m     10\u001b[0m \u001b[0mplt\u001b[0m\u001b[0;34m.\u001b[0m\u001b[0mplot\u001b[0m\u001b[0;34m(\u001b[0m\u001b[0mks\u001b[0m\u001b[0;34m,\u001b[0m \u001b[0mtrain_errs\u001b[0m\u001b[0;34m,\u001b[0m \u001b[0;34m'bs:'\u001b[0m\u001b[0;34m,\u001b[0m \u001b[0mlabel\u001b[0m\u001b[0;34m=\u001b[0m\u001b[0;34m'train'\u001b[0m\u001b[0;34m)\u001b[0m\u001b[0;34m\u001b[0m\u001b[0;34m\u001b[0m\u001b[0m\n",
      "\u001b[0;32m/usr/local/lib/python3.7/dist-packages/sklearn/base.py\u001b[0m in \u001b[0;36mscore\u001b[0;34m(self, X, y, sample_weight)\u001b[0m\n\u001b[1;32m    649\u001b[0m         \u001b[0;32mfrom\u001b[0m \u001b[0;34m.\u001b[0m\u001b[0mmetrics\u001b[0m \u001b[0;32mimport\u001b[0m \u001b[0maccuracy_score\u001b[0m\u001b[0;34m\u001b[0m\u001b[0;34m\u001b[0m\u001b[0m\n\u001b[1;32m    650\u001b[0m \u001b[0;34m\u001b[0m\u001b[0m\n\u001b[0;32m--> 651\u001b[0;31m         \u001b[0;32mreturn\u001b[0m \u001b[0maccuracy_score\u001b[0m\u001b[0;34m(\u001b[0m\u001b[0my\u001b[0m\u001b[0;34m,\u001b[0m \u001b[0mself\u001b[0m\u001b[0;34m.\u001b[0m\u001b[0mpredict\u001b[0m\u001b[0;34m(\u001b[0m\u001b[0mX\u001b[0m\u001b[0;34m)\u001b[0m\u001b[0;34m,\u001b[0m \u001b[0msample_weight\u001b[0m\u001b[0;34m=\u001b[0m\u001b[0msample_weight\u001b[0m\u001b[0;34m)\u001b[0m\u001b[0;34m\u001b[0m\u001b[0;34m\u001b[0m\u001b[0m\n\u001b[0m\u001b[1;32m    652\u001b[0m \u001b[0;34m\u001b[0m\u001b[0m\n\u001b[1;32m    653\u001b[0m     \u001b[0;32mdef\u001b[0m \u001b[0m_more_tags\u001b[0m\u001b[0;34m(\u001b[0m\u001b[0mself\u001b[0m\u001b[0;34m)\u001b[0m\u001b[0;34m:\u001b[0m\u001b[0;34m\u001b[0m\u001b[0;34m\u001b[0m\u001b[0m\n",
      "\u001b[0;32m/usr/local/lib/python3.7/dist-packages/sklearn/metrics/_classification.py\u001b[0m in \u001b[0;36maccuracy_score\u001b[0;34m(y_true, y_pred, normalize, sample_weight)\u001b[0m\n\u001b[1;32m    209\u001b[0m \u001b[0;34m\u001b[0m\u001b[0m\n\u001b[1;32m    210\u001b[0m     \u001b[0;31m# Compute accuracy for each possible representation\u001b[0m\u001b[0;34m\u001b[0m\u001b[0;34m\u001b[0m\u001b[0;34m\u001b[0m\u001b[0m\n\u001b[0;32m--> 211\u001b[0;31m     \u001b[0my_type\u001b[0m\u001b[0;34m,\u001b[0m \u001b[0my_true\u001b[0m\u001b[0;34m,\u001b[0m \u001b[0my_pred\u001b[0m \u001b[0;34m=\u001b[0m \u001b[0m_check_targets\u001b[0m\u001b[0;34m(\u001b[0m\u001b[0my_true\u001b[0m\u001b[0;34m,\u001b[0m \u001b[0my_pred\u001b[0m\u001b[0;34m)\u001b[0m\u001b[0;34m\u001b[0m\u001b[0;34m\u001b[0m\u001b[0m\n\u001b[0m\u001b[1;32m    212\u001b[0m     \u001b[0mcheck_consistent_length\u001b[0m\u001b[0;34m(\u001b[0m\u001b[0my_true\u001b[0m\u001b[0;34m,\u001b[0m \u001b[0my_pred\u001b[0m\u001b[0;34m,\u001b[0m \u001b[0msample_weight\u001b[0m\u001b[0;34m)\u001b[0m\u001b[0;34m\u001b[0m\u001b[0;34m\u001b[0m\u001b[0m\n\u001b[1;32m    213\u001b[0m     \u001b[0;32mif\u001b[0m \u001b[0my_type\u001b[0m\u001b[0;34m.\u001b[0m\u001b[0mstartswith\u001b[0m\u001b[0;34m(\u001b[0m\u001b[0;34m\"multilabel\"\u001b[0m\u001b[0;34m)\u001b[0m\u001b[0;34m:\u001b[0m\u001b[0;34m\u001b[0m\u001b[0;34m\u001b[0m\u001b[0m\n",
      "\u001b[0;32m/usr/local/lib/python3.7/dist-packages/sklearn/metrics/_classification.py\u001b[0m in \u001b[0;36m_check_targets\u001b[0;34m(y_true, y_pred)\u001b[0m\n\u001b[1;32m     82\u001b[0m     \u001b[0my_pred\u001b[0m \u001b[0;34m:\u001b[0m \u001b[0marray\u001b[0m \u001b[0;32mor\u001b[0m \u001b[0mindicator\u001b[0m \u001b[0mmatrix\u001b[0m\u001b[0;34m\u001b[0m\u001b[0;34m\u001b[0m\u001b[0m\n\u001b[1;32m     83\u001b[0m     \"\"\"\n\u001b[0;32m---> 84\u001b[0;31m     \u001b[0mcheck_consistent_length\u001b[0m\u001b[0;34m(\u001b[0m\u001b[0my_true\u001b[0m\u001b[0;34m,\u001b[0m \u001b[0my_pred\u001b[0m\u001b[0;34m)\u001b[0m\u001b[0;34m\u001b[0m\u001b[0;34m\u001b[0m\u001b[0m\n\u001b[0m\u001b[1;32m     85\u001b[0m     \u001b[0mtype_true\u001b[0m \u001b[0;34m=\u001b[0m \u001b[0mtype_of_target\u001b[0m\u001b[0;34m(\u001b[0m\u001b[0my_true\u001b[0m\u001b[0;34m)\u001b[0m\u001b[0;34m\u001b[0m\u001b[0;34m\u001b[0m\u001b[0m\n\u001b[1;32m     86\u001b[0m     \u001b[0mtype_pred\u001b[0m \u001b[0;34m=\u001b[0m \u001b[0mtype_of_target\u001b[0m\u001b[0;34m(\u001b[0m\u001b[0my_pred\u001b[0m\u001b[0;34m)\u001b[0m\u001b[0;34m\u001b[0m\u001b[0;34m\u001b[0m\u001b[0m\n",
      "\u001b[0;32m/usr/local/lib/python3.7/dist-packages/sklearn/utils/validation.py\u001b[0m in \u001b[0;36mcheck_consistent_length\u001b[0;34m(*arrays)\u001b[0m\n\u001b[1;32m    332\u001b[0m         raise ValueError(\n\u001b[1;32m    333\u001b[0m             \u001b[0;34m\"Found input variables with inconsistent numbers of samples: %r\"\u001b[0m\u001b[0;34m\u001b[0m\u001b[0;34m\u001b[0m\u001b[0m\n\u001b[0;32m--> 334\u001b[0;31m             \u001b[0;34m%\u001b[0m \u001b[0;34m[\u001b[0m\u001b[0mint\u001b[0m\u001b[0;34m(\u001b[0m\u001b[0ml\u001b[0m\u001b[0;34m)\u001b[0m \u001b[0;32mfor\u001b[0m \u001b[0ml\u001b[0m \u001b[0;32min\u001b[0m \u001b[0mlengths\u001b[0m\u001b[0;34m]\u001b[0m\u001b[0;34m\u001b[0m\u001b[0;34m\u001b[0m\u001b[0m\n\u001b[0m\u001b[1;32m    335\u001b[0m         )\n\u001b[1;32m    336\u001b[0m \u001b[0;34m\u001b[0m\u001b[0m\n",
      "\u001b[0;31mValueError\u001b[0m: Found input variables with inconsistent numbers of samples: [50, 200]"
     ]
    }
   ],
   "source": [
    "ks = [1, 5, 10, 20, 50, 70, 79]\n",
    "train_errs = []\n",
    "test_errs = []\n",
    "for k in ks:\n",
    "  knn = KNN(n_neighbors=k)\n",
    "  knn.fit(x_train, y_train)\n",
    "  train_errs.append(1 - knn.score(x_train, y_train))\n",
    "  test_errs.append(1 - knn.score(x_test, y_test))\n",
    "plt.figure()\n",
    "plt.plot(ks, train_errs, 'bs:', label='train')\n",
    "plt.plot(ks, test_errs, 'rx-', label='test')\n",
    "plt.legend()\n",
    "plt.xlabel('k')\n",
    "plt.ylabel('misclassification rate')\n",
    "\n",
    "plt.show()"
   ]
  },
  {
   "cell_type": "markdown",
   "metadata": {
    "id": "5REvQfpl_4tw"
   },
   "source": [
    "#KNN on IRIS Dataset"
   ]
  },
  {
   "cell_type": "markdown",
   "metadata": {
    "id": "vxyoG2S2DBLv"
   },
   "source": [
    "##Data Pre-processing"
   ]
  },
  {
   "cell_type": "code",
   "execution_count": null,
   "metadata": {
    "id": "bCIUUXV12fYn"
   },
   "outputs": [],
   "source": [
    "iris = load_iris() # Load IRIS dataset from sckitlearn library"
   ]
  },
  {
   "cell_type": "code",
   "execution_count": null,
   "metadata": {
    "colab": {
     "base_uri": "https://localhost:8080/"
    },
    "id": "iMosUTC523J-",
    "outputId": "956a7a07-5fc0-48d0-c156-140695f0b344"
   },
   "outputs": [
    {
     "name": "stdout",
     "output_type": "stream",
     "text": [
      "['sepal length (cm)', 'sepal width (cm)', 'petal length (cm)', 'petal width (cm)']\n",
      "['setosa' 'versicolor' 'virginica']\n"
     ]
    }
   ],
   "source": [
    "print(iris.feature_names)  # Iris has 4 feature and 3 output classes\n",
    "print(iris.target_names)"
   ]
  },
  {
   "cell_type": "code",
   "execution_count": null,
   "metadata": {
    "colab": {
     "base_uri": "https://localhost:8080/"
    },
    "id": "Qv1b9DE73MRe",
    "outputId": "dacf5bf0-164e-47c7-fc22-4b8d25f7d7ab"
   },
   "outputs": [
    {
     "name": "stdout",
     "output_type": "stream",
     "text": [
      "[[5.1 3.5 1.4 0.2]\n",
      " [4.9 3.  1.4 0.2]\n",
      " [4.7 3.2 1.3 0.2]\n",
      " [4.6 3.1 1.5 0.2]\n",
      " [5.  3.6 1.4 0.2]]\n"
     ]
    }
   ],
   "source": [
    "X = iris.data\n",
    "print(X[:5])"
   ]
  },
  {
   "cell_type": "code",
   "execution_count": null,
   "metadata": {
    "colab": {
     "base_uri": "https://localhost:8080/"
    },
    "id": "nZgkfrgg39cO",
    "outputId": "aa8f5b20-014f-432c-a072-ae084c1c5b42"
   },
   "outputs": [
    {
     "name": "stdout",
     "output_type": "stream",
     "text": [
      "(150, 4)\n"
     ]
    }
   ],
   "source": [
    "print(X.shape)"
   ]
  },
  {
   "cell_type": "code",
   "execution_count": null,
   "metadata": {
    "colab": {
     "base_uri": "https://localhost:8080/"
    },
    "id": "bLXKHTPR4ZZ2",
    "outputId": "5aed66e0-f9dd-4cbb-f16c-7202b6a0d2ea"
   },
   "outputs": [
    {
     "name": "stdout",
     "output_type": "stream",
     "text": [
      "[0 0 0 0 0 0 0 0 0 0 0 0 0 0 0 0 0 0 0 0 0 0 0 0 0 0 0 0 0 0 0 0 0 0 0 0 0\n",
      " 0 0 0 0 0 0 0 0 0 0 0 0 0 1 1 1 1 1 1 1 1 1 1 1 1 1 1 1 1 1 1 1 1 1 1 1 1\n",
      " 1 1 1 1 1 1 1 1 1 1 1 1 1 1 1 1 1 1 1 1 1 1 1 1 1 1 2 2 2 2 2 2 2 2 2 2 2\n",
      " 2 2 2 2 2 2 2 2 2 2 2 2 2 2 2 2 2 2 2 2 2 2 2 2 2 2 2 2 2 2 2 2 2 2 2 2 2\n",
      " 2 2]\n"
     ]
    }
   ],
   "source": [
    "y = iris.target\n",
    "print(y)"
   ]
  },
  {
   "cell_type": "markdown",
   "metadata": {
    "id": "FmaYhAdGCYq7"
   },
   "source": [
    "Split Dataset into train and test"
   ]
  },
  {
   "cell_type": "code",
   "execution_count": null,
   "metadata": {
    "id": "ApQMGimf4w-u"
   },
   "outputs": [],
   "source": [
    "X_train, X_test, y_train, y_test = train_test_split(X, y, test_size=0.33, random_state=42)"
   ]
  },
  {
   "cell_type": "code",
   "execution_count": null,
   "metadata": {
    "colab": {
     "base_uri": "https://localhost:8080/"
    },
    "id": "8fzP1hZf6XX7",
    "outputId": "a826baa4-f6a1-4ec1-ef8a-efbe7ab21461"
   },
   "outputs": [
    {
     "name": "stdout",
     "output_type": "stream",
     "text": [
      "(100, 4)\n",
      "[[5.7 2.9 4.2 1.3]\n",
      " [7.6 3.  6.6 2.1]\n",
      " [5.6 3.  4.5 1.5]\n",
      " [5.1 3.5 1.4 0.2]\n",
      " [7.7 2.8 6.7 2. ]]\n"
     ]
    }
   ],
   "source": [
    "print(X_train.shape)\n",
    "print(X_train[:5])"
   ]
  },
  {
   "cell_type": "code",
   "execution_count": null,
   "metadata": {
    "colab": {
     "base_uri": "https://localhost:8080/"
    },
    "id": "Vg-49syd-uTb",
    "outputId": "c968af6e-887b-4f2c-e7da-c8a1a9de4c4d"
   },
   "outputs": [
    {
     "name": "stdout",
     "output_type": "stream",
     "text": [
      "[1 2 1 0 2 1 0 0 0 1 2 0 0 0 1 0 1 2 0 1 2 0 2 2 1 1 2 1 0 1 2 0 0 1 1 0 2\n",
      " 0 0 1 1 2 1 2 2 1 0 0 2 2 0 0 0 1 2 0 2 2 0 1 1 2 1 2 0 2 1 2 1 1 1 0 1 1\n",
      " 0 1 2 2 0 1 2 2 0 2 0 1 2 2 1 2 1 1 2 2 0 1 2 0 1 2]\n"
     ]
    }
   ],
   "source": [
    "print(y_train)"
   ]
  },
  {
   "cell_type": "markdown",
   "metadata": {
    "id": "3gJoHJBUCOga"
   },
   "source": [
    "Visualize Iris dataset based on petal length and petal width"
   ]
  },
  {
   "cell_type": "code",
   "execution_count": null,
   "metadata": {
    "colab": {
     "base_uri": "https://localhost:8080/",
     "height": 279
    },
    "id": "rnkJHzNM8VPX",
    "outputId": "57d171a4-70e0-4ce4-bea5-1cfadf969006"
   },
   "outputs": [
    {
     "data": {
      "image/png": "[encoded data removed]",
      "text/plain": [
       "<Figure size 432x288 with 1 Axes>"
      ]
     },
     "metadata": {
      "needs_background": "light"
     },
     "output_type": "display_data"
    }
   ],
   "source": [
    "K=3\n",
    "colors = 'bgr'\n",
    "markers = '*x+'\n",
    "fig, ax = plt.subplots()\n",
    "for k in range(0, K):\n",
    "  ax.plot(X_train[y_train==k, 2], X_train[y_train==k, 3], color=colors[k], \\\n",
    "          marker=markers[k], linestyle = 'None', label=\"Cluster {}\".format(k))\n",
    "  \n",
    "ax.set(xlabel = iris.feature_names[2])\n",
    "ax.set(ylabel = iris.feature_names[3])\n",
    "plt.legend(loc=\"upper left\", fontsize=12)\n",
    "# save_fig(\"iris-2d-gmm\")\n",
    "plt.show()"
   ]
  },
  {
   "cell_type": "markdown",
   "metadata": {
    "id": "GNJBoOBdDGhW"
   },
   "source": [
    "##KNN Model"
   ]
  },
  {
   "cell_type": "code",
   "execution_count": null,
   "metadata": {
    "colab": {
     "base_uri": "https://localhost:8080/"
    },
    "id": "Ytsg6YO2-b1n",
    "outputId": "2deb3f1e-0ac8-4a93-ce6f-6af8c5ec1569"
   },
   "outputs": [
    {
     "data": {
      "text/plain": [
       "KNeighborsClassifier(n_neighbors=2)"
      ]
     },
     "execution_count": 59,
     "metadata": {},
     "output_type": "execute_result"
    }
   ],
   "source": [
    "knn = KNN(n_neighbors=2)\n",
    "knn.fit(X_train, y_train)"
   ]
  },
  {
   "cell_type": "code",
   "execution_count": null,
   "metadata": {
    "colab": {
     "base_uri": "https://localhost:8080/"
    },
    "id": "yV2Qyy66_RYW",
    "outputId": "d303ced6-2c59-4da6-ecf8-b6756572f231"
   },
   "outputs": [
    {
     "name": "stdout",
     "output_type": "stream",
     "text": [
      "0.97\n",
      "0.98\n"
     ]
    }
   ],
   "source": [
    "y_pred=knn.predict(X_test)\n",
    "print(knn.score(X_train, y_train))\n",
    "print(knn.score(X_test, y_test))"
   ]
  },
  {
   "cell_type": "markdown",
   "metadata": {
    "id": "EP5Sv8PYDYiY"
   },
   "source": [
    "#Extended Learning Question:"
   ]
  },
  {
   "cell_type": "markdown",
   "metadata": {
    "id": "jQO_6ek-HfqH"
   },
   "source": [
    "##Model Selection for Iris Dataset"
   ]
  },
  {
   "cell_type": "code",
   "execution_count": null,
   "metadata": {
    "colab": {
     "base_uri": "https://localhost:8080/",
     "height": 279
    },
    "id": "UfxrPCVhHjmH",
    "outputId": "43bc67cd-5139-4d60-d70d-37db0f5d268f"
   },
   "outputs": [
    {
     "data": {
      "image/png": "[encoded data removed]",
      "text/plain": [
       "<Figure size 432x288 with 1 Axes>"
      ]
     },
     "metadata": {
      "needs_background": "light"
     },
     "output_type": "display_data"
    }
   ],
   "source": [
    "# Hint: Plot misclassification rate vs k and observe\n",
    "ks = [1, 5, 10, 20, 50, 70, 79]\n",
    "train_errs = []\n",
    "test_errs = []\n",
    "for k in ks:\n",
    "  knn = KNN(n_neighbors=k)\n",
    "  knn.fit(X_train, y_train)\n",
    "  train_errs.append(1 - knn.score(X_train, y_train))\n",
    "  test_errs.append(1 - knn.score(X_test, y_test))\n",
    "plt.figure()\n",
    "plt.plot(ks, train_errs, 'bs:', label='train')\n",
    "plt.plot(ks, test_errs, 'rx-', label='test')\n",
    "plt.legend()\n",
    "plt.xlabel('k')\n",
    "plt.ylabel('misclassification rate')\n",
    "\n",
    "plt.show()"
   ]
  },
  {
   "cell_type": "markdown",
   "metadata": {
    "id": "wXkHw2hFAxcp"
   },
   "source": [
    "## The value of k should be somewhere between 5 to 10. As very small value of k will cause overfiffing (because of zero or near to zero training error) and at very large value the decision boundaries become smoother (since we are averaging over larger neighborhoods), so the training error increases, its underfit. And in the range between 5 to 10 the difference between test and train error is less. Therefore, a good value to choose for K is K=5"
   ]
  },
  {
   "cell_type": "markdown",
   "metadata": {
    "id": "0W_AwL6MHz0x"
   },
   "source": [
    "##KNN From Scratch"
   ]
  },
  {
   "cell_type": "code",
   "execution_count": null,
   "metadata": {
    "id": "JzREjktmE9gJ"
   },
   "outputs": [],
   "source": [
    "def get_nearest_nei(X_train,X_test):\n",
    "    #input: X_train, X_test\n",
    "    iris = load_iris()\n",
    "    X = iris.data\n",
    "    y = iris.target\n",
    "\n",
    "    # Generating Training Dataset\n",
    "    xtrn = (X[:25], X[50:75], X[100:125])\n",
    "    X_train = np.concatenate(xtrn) #Training input\n",
    "\n",
    "    ytrn = (y[:25], y[50:75], y[100:125])\n",
    "    y_train = np.concatenate(ytrn)\n",
    "\n",
    "    # Generating Test Data\n",
    "    xtst = (X[25:50], X[75:100], X[125:150])\n",
    "    X_test = np.concatenate(xtst) #Testing input\n",
    "\n",
    "    ytst = (y[25:50], y[75:100], y[125:150])\n",
    "    y_test = np.concatenate(ytst)\n",
    "\n",
    "\n",
    "    #Use Euclidian Distance Method\n",
    "    test_size = X_test.shape[0]\n",
    "    train_size = X_train.shape[0]\n",
    "\n",
    "    dist = np.zeros((test_size, train_size))\n",
    "    for i in range(test_size):\n",
    "      for j in range(train_size):\n",
    "        dist [i, j] = np.sqrt(np.sum((X_test[i, :] - X_train[j, :]) **2))\n",
    "\n",
    "    #output: Distance Matrix: Distance of every point in X_test to every data point in X_train\n",
    "    return dist"
   ]
  },
  {
   "cell_type": "code",
   "execution_count": null,
   "metadata": {
    "id": "2NpV0Ox9Dn0Y"
   },
   "outputs": [],
   "source": [
    "def KNN_scratch(k, X_train, y_train, X_test):\n",
    "    # input: k: k nearest neighbours,\n",
    "    # X_train and y_train: Training samples\n",
    "    # X_test: points to be predicted\n",
    "\n",
    "    #Step 1 : Get Distance Matrix\n",
    "    dis_matrix = get_nearest_nei(X_train,X_test) # suppose n data samples then dis_matrix = (n,n)\n",
    "\n",
    "    #Step 2: Find k Nearest Neighbours and their labels\n",
    "    dis_matrix_size = dis_matrix.shape[0]\n",
    "    y_pred = np.zeros(dis_matrix_size)\n",
    "    for i in range(dis_matrix_size):\n",
    "\n",
    "      nearest_y = []\n",
    "      k_nearest_neighbours = np.argsort(dis_matrix[i, :])[:k]\n",
    "      nearest_y = y_train[k_nearest_neighbours]\n",
    "      \n",
    "      #Step 3: Find count of similiar labels from nearest neighbours\n",
    "      #Step 4: Assign max count labels as output to the point\n",
    "      y_pred[i] = np.argmax(np.bincount(nearest_y))  \n",
    "\n",
    "    return y_pred"
   ]
  }
 ],
 "metadata": {
  "colab": {
   "collapsed_sections": [
    "5REvQfpl_4tw",
    "vxyoG2S2DBLv",
    "GNJBoOBdDGhW",
    "jQO_6ek-HfqH"
   ],
   "name": "AU1940131_Vishwa_L5.ipynb",
   "provenance": []
  },
  "kernelspec": {
   "display_name": "Python 3 (ipykernel)",
   "language": "python",
   "name": "python3"
  },
  "language_info": {
   "codemirror_mode": {
    "name": "ipython",
    "version": 3
   },
   "file_extension": ".py",
   "mimetype": "text/x-python",
   "name": "python",
   "nbconvert_exporter": "python",
   "pygments_lexer": "ipython3",
   "version": "3.9.7"
  }
 },
 "nbformat": 4,
 "nbformat_minor": 1
}
