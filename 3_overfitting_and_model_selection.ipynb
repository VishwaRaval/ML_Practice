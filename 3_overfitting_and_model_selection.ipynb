{
 "cells": [
  {
   "cell_type": "code",
   "execution_count": 3,
   "id": "a457dad1",
   "metadata": {},
   "outputs": [],
   "source": [
    "# importing important libraries\n",
    "import numpy as np\n",
    "import matplotlib.pyplot as plt\n",
    "import os\n",
    "\n",
    "# scikit learn\n",
    "from sklearn.preprocessing import PolynomialFeatures\n",
    "from sklearn.linear_model import LinearRegression\n",
    "from sklearn.preprocessing import MinMaxScaler \n",
    "import sklearn.metrics \n",
    "from sklearn.metrics import mean_squared_error as mse"
   ]
  },
  {
   "cell_type": "markdown",
   "id": "7cbe0f8b",
   "metadata": {},
   "source": [
    "- sklearn: Scikit-learn is a free software machine learning library for the Python programming language.\n",
    "- sklearn.preprocessing: The sklearn.preprocessing is a package that provides several common utility functions and transformer classes to change raw feature vectors into a representation that is more suitable for the downstream estimators.\n",
    "- sklearn.preprocessing.PolynomialFeatures is a class. i.e. PolynomialFeatures is a class from the package sklearn.preprocessing, which is a part of the sklearn library. (Same is true for MinMaxScaler)"
   ]
  },
  {
   "cell_type": "markdown",
   "id": "9fdc3b85",
   "metadata": {},
   "source": [
    "## 1D Data Generation function"
   ]
  },
  {
   "cell_type": "code",
   "execution_count": 51,
   "id": "0e05c131",
   "metadata": {},
   "outputs": [],
   "source": [
    "def make_1dregression_data(n=21): # Default value of n will be 21 (in case you don't enter the value of parameter n)\n",
    "    \n",
    "    np.random.seed(0) # With the seed reset (every time), the same set of numbers will appear every time.\n",
    "                      # If the random seed is not reset, different numbers appear with every invocation\n",
    "        \n",
    "    xtrain = np.linspace(0.0, 20, n) # np.linspace(start, stop, num) Returns num evenly spaced samples, calculated over the interval [start, stop].\n",
    "    xtest = np.arange(0.0, 20, 0.1)  # The arange([start,] stop[, step,][, dtype]) : Returns an array with evenly spaced elements as per the interval. The interval mentioned is half-opened i.e. [Start, Stop) \n",
    "    sigma2 = 4\n",
    "    w = np.array([-1.5, 1/9.])\n",
    "    func = lambda x: w[0]*x + w[1]*np.square(x) # Defining a function\n",
    "    \n",
    "    # https://stats.stackexchange.com/questions/430013/could-someone-please-translate-this-code-into-some-mathematical-notation\n",
    "    ytrain = func(xtrain) + np.random.normal(0, 1, xtrain.shape) * np.sqrt(sigma2)\n",
    "    ytest= func(xtest) + np.random.normal(0, 1, xtest.shape) * np.sqrt(sigma2)\n",
    "    \n",
    "    return xtrain, ytrain, xtest, ytest"
   ]
  },
  {
   "cell_type": "code",
   "execution_count": 52,
   "id": "c75c694e",
   "metadata": {},
   "outputs": [
    {
     "name": "stdout",
     "output_type": "stream",
     "text": [
      "20.0\n",
      "0.0\n",
      "19.900000000000002\n",
      "0.0\n"
     ]
    }
   ],
   "source": [
    "xtrain, ytrain, xtest, ytest = make_1dregression_data(n=21)\n",
    "\n",
    "# checking range of input X and y\n",
    "print(max(xtrain))\n",
    "print(min(xtrain))\n",
    "print(max(xtest))\n",
    "print(min(xtest))"
   ]
  },
  {
   "cell_type": "code",
   "execution_count": 53,
   "id": "344168df",
   "metadata": {},
   "outputs": [
    {
     "data": {
      "image/png": "[encoded data removed]",
      "text/plain": [
       "<Figure size 432x288 with 1 Axes>"
      ]
     },
     "metadata": {
      "needs_background": "light"
     },
     "output_type": "display_data"
    }
   ],
   "source": [
    "plt.plot(xtrain, ytrain, 'o')\n",
    "plt.show()"
   ]
  },
  {
   "cell_type": "markdown",
   "id": "dcf22d0c",
   "metadata": {},
   "source": [
    "## Data Preprocessing"
   ]
  },
  {
   "cell_type": "code",
   "execution_count": 71,
   "id": "875ae197",
   "metadata": {},
   "outputs": [
    {
     "name": "stdout",
     "output_type": "stream",
     "text": [
      "[1.]\n",
      "[-1.]\n"
     ]
    }
   ],
   "source": [
    "#Rescaling data : making the data range smaller helps in faster processing\n",
    "scaler = MinMaxScaler(feature_range=(-1, 1)) # Scalar is an object of MinMaxScaler class\n",
    "\n",
    "# For knowing about the methods fit_transform(), transfort(), and fit()\n",
    "# Refer: https://towardsdatascience.com/what-and-why-behind-fit-transform-vs-transform-in-scikit-learn-78f915cf96fe \n",
    "# Refer: https://www.analyticsvidhya.com/blog/2021/04/difference-between-fit-transform-fit_transform-methods-in-scikit-learn-with-python-code/ \n",
    "Xtrain = scaler.fit_transform(xtrain.reshape(-1, 1)) \n",
    "Xtest = scaler.transform(xtest.reshape(-1, 1))\n",
    "\n",
    "\n",
    "print((max(Xtrain)))\n",
    "print(min(Xtest))"
   ]
  },
  {
   "cell_type": "code",
   "execution_count": 72,
   "id": "8f7c484b",
   "metadata": {
    "scrolled": true
   },
   "outputs": [
    {
     "data": {
      "image/png": "[encoded data removed]",
      "text/plain": [
       "<Figure size 432x288 with 1 Axes>"
      ]
     },
     "metadata": {
      "needs_background": "light"
     },
     "output_type": "display_data"
    }
   ],
   "source": [
    "# After rescaling the shape hasn't changed\n",
    "plt.plot(Xtrain, ytrain, 'o')\n",
    "plt.show()"
   ]
  },
  {
   "cell_type": "markdown",
   "id": "d2a2eb3d",
   "metadata": {},
   "source": [
    "# Checking which degree polynomial will be the best fit for our data"
   ]
  },
  {
   "cell_type": "code",
   "execution_count": 87,
   "id": "7013fb22",
   "metadata": {},
   "outputs": [],
   "source": [
    "degs = np.arange(1, 21, 1)\n",
    "\n",
    "# Initializang the variables for a degree (ndegs)\n",
    "ndegs = np.max(degs)\n",
    "mse_train = np.empty(ndegs)\n",
    "mse_test = np.empty(ndegs)\n",
    "ytest_pred_stored = np.empty(ndegs, dtype=np.ndarray)\n",
    "ytrain_pred_stored = np.empty(ndegs, dtype=np.ndarray)"
   ]
  },
  {
   "cell_type": "code",
   "execution_count": 74,
   "id": "ac591d7e",
   "metadata": {},
   "outputs": [
    {
     "name": "stdout",
     "output_type": "stream",
     "text": [
      "[ 1  2  3  4  5  6  7  8  9 10 11 12 13 14 15 16 17 18 19 20]\n",
      "20\n"
     ]
    }
   ],
   "source": [
    "print(degs)\n",
    "print(ndegs)"
   ]
  },
  {
   "cell_type": "markdown",
   "id": "6d9fdb8f",
   "metadata": {},
   "source": [
    "##  Generating a model corresponding to each degree of the polynomial\n",
    "\n",
    "- For that, we need to first generate the feature matrix [1 x x^2 ... x^n]"
   ]
  },
  {
   "cell_type": "code",
   "execution_count": 94,
   "id": "09edfe2d",
   "metadata": {},
   "outputs": [],
   "source": [
    "for deg in degs:\n",
    "    model = LinearRegression() # Initializing model\n",
    "\n",
    "    poly_features = PolynomialFeatures(degree=deg, include_bias=False) # initializing feature matrix for degree n regression\n",
    "    Xtrain_poly = poly_features.fit_transform(Xtrain) # generating feature matrix [1 x x^2... x^n]\n",
    "    \n",
    "    model.fit(Xtrain_poly, ytrain) # Training a model by providing inputs and outputs\n",
    "\n",
    "    ytrain_pred = model.predict(Xtrain_poly)  # predicting a train data to check how model has learned\n",
    "    ytrain_pred_stored[deg-1] = ytrain_pred\n",
    "\n",
    "    Xtest_poly = poly_features.transform(Xtest)\n",
    "    ytest_pred = model.predict(Xtest_poly)\n",
    "\n",
    "    mse_train[deg-1] = mse(ytrain_pred, ytrain) # finding mean squerd error between actual and predicted training dataset\n",
    "    mse_test[deg-1] = mse(ytest_pred, ytest) # finding mean squerd error between actual and predicted test dataset\n",
    "    ytest_pred_stored[deg-1] = ytest_pred"
   ]
  },
  {
   "cell_type": "markdown",
   "id": "ad9f77b6",
   "metadata": {},
   "source": [
    "## Plotting the fitted functions"
   ]
  },
  {
   "cell_type": "code",
   "execution_count": 104,
   "id": "3f60030a",
   "metadata": {},
   "outputs": [
    {
     "data": {
      "image/png": "[encoded data removed]",
      "text/plain": [
       "<Figure size 432x288 with 4 Axes>"
      ]
     },
     "metadata": {
      "needs_background": "light"
     },
     "output_type": "display_data"
    }
   ],
   "source": [
    "chosen_degs = [1, 2, 14, 20]\n",
    "\n",
    "figure, ax = plt.subplots(nrows=2, ncols=2)\n",
    "\n",
    "\n",
    "i=j=0\n",
    "\n",
    "for deg in chosen_degs:\n",
    "\n",
    "    ax[i,j].scatter(xtrain, ytrain)\n",
    "    ax[i,j].plot(xtest, ytest_pred_stored[deg-1])\n",
    "    ax[i,j].set_ylim((-10, 15))\n",
    "    plt.title('degree {}'.format(deg))\n",
    "    ax[i,j].set_title('degree {}'.format(deg))\n",
    "\n",
    "    if j==0:\n",
    "        j=1\n",
    "    else:\n",
    "        i=i+1\n",
    "        j=0\n",
    "\n",
    "figure.tight_layout()"
   ]
  },
  {
   "cell_type": "markdown",
   "id": "294238a1",
   "metadata": {},
   "source": [
    "## Plot MSE vs degree"
   ]
  },
  {
   "cell_type": "code",
   "execution_count": 100,
   "id": "79357c6c",
   "metadata": {},
   "outputs": [
    {
     "data": {
      "image/png": "[encoded data removed]",
      "text/plain": [
       "<Figure size 432x288 with 1 Axes>"
      ]
     },
     "metadata": {
      "needs_background": "light"
     },
     "output_type": "display_data"
    }
   ],
   "source": [
    "fig, ax = plt.subplots()\n",
    "mask = degs <= 15\n",
    "ax.plot(degs[mask], mse_test[mask], color = 'r', marker = 'x',label='test')\n",
    "ax.plot(degs[mask], mse_train[mask], color='b', marker = 's', label='train')\n",
    "ax.legend(loc='upper right', shadow=True)\n",
    "plt.xlabel('degree')\n",
    "plt.ylabel('mse')\n",
    "# pml.savefig('polyfitVsDegree.pdf')\n",
    "plt.show()"
   ]
  }
 ],
 "metadata": {
  "kernelspec": {
   "display_name": "Python 3 (ipykernel)",
   "language": "python",
   "name": "python3"
  },
  "language_info": {
   "codemirror_mode": {
    "name": "ipython",
    "version": 3
   },
   "file_extension": ".py",
   "mimetype": "text/x-python",
   "name": "python",
   "nbconvert_exporter": "python",
   "pygments_lexer": "ipython3",
   "version": "3.9.7"
  }
 },
 "nbformat": 4,
 "nbformat_minor": 5
}
