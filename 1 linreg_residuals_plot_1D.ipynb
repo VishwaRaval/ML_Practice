{
 "cells": [
  {
   "cell_type": "markdown",
   "id": "4e224488",
   "metadata": {},
   "source": [
    "## Residuals in Linear Regression Model (1-D dataset)"
   ]
  },
  {
   "cell_type": "code",
   "execution_count": 112,
   "id": "a473c9be",
   "metadata": {},
   "outputs": [],
   "source": [
    "# Importing useful modules/libraries\n",
    "\n",
    "import numpy as np\n",
    "import matplotlib.pyplot as plt\n",
    "import os"
   ]
  },
  {
   "cell_type": "code",
   "execution_count": 113,
   "id": "dd08d121",
   "metadata": {},
   "outputs": [],
   "source": [
    "# Generating X points\n",
    "\n",
    "N = 21\n",
    "\n",
    "# np.linspace(start, stop, num) Returns num evenly spaced samples, calculated over the interval [start, stop].\n",
    "x = np.linspace(0.0, 20, N)  \n",
    "# print (x)\n",
    "\n",
    "# Reshaping the array of N elements into a (Nx1) matrix/vector format. This will be helpful in future calculations.\n",
    "X0 = x.reshape(N, 1) \n",
    "# print (X0)\n",
    "\n",
    "# We must add ones to Features vectors. We need this for that bias term\n",
    "X = np.c_[np.ones((N, 1)), X0] # concatinate 1s in front of all the data points\n",
    "# print (X)"
   ]
  },
  {
   "cell_type": "markdown",
   "id": "25a2c716",
   "metadata": {},
   "source": [
    "- Since there is only one input feature (x), this is a 1-D data. ie. The dimesionality of the vector, D = 1\n",
    "- And there are 21 datapoints. Therefore, the size of the original training dataset N = 21"
   ]
  },
  {
   "cell_type": "markdown",
   "id": "a3d99543",
   "metadata": {},
   "source": [
    "## <font color='red'>np.random.normal(0, 1, N) ==> Meaning</font> "
   ]
  },
  {
   "cell_type": "code",
   "execution_count": 114,
   "id": "3be2bffa",
   "metadata": {},
   "outputs": [
    {
     "data": {
      "image/png": "[encoded data removed]",
      "text/plain": [
       "<Figure size 432x288 with 1 Axes>"
      ]
     },
     "metadata": {
      "needs_background": "light"
     },
     "output_type": "display_data"
    }
   ],
   "source": [
    "# Generating y points\n",
    "\n",
    "c = np.array([-1.5, 1/9.])      # array to store the coefficient of polynomials\n",
    "y = c[0]*x + c[1]*np.square(x)  # generating a perfect polynomial such that y = (-1.5)*x + (0.11)*(x^2) [This is ofc an ideal case]\n",
    "\n",
    "# # To check the perfect x-y relationship according to the equation y = (-1.5)*x + (0.11)*(x^2)\n",
    "# plt.plot(X[:, 1], y, 'o')\n",
    "# plt.show()\n",
    "\n",
    "y = y + np.random.normal(0, 1, N) * 2   # adding error part into data\n",
    "plt.plot(X[:, 1], y, 'o') # X[:, 1] is 1st column of X which actually is x [0th columns is the 1's and the 1st column is x]\n",
    "plt.show()"
   ]
  },
  {
   "cell_type": "markdown",
   "id": "037dfc78",
   "metadata": {},
   "source": [
    "- Linear regression model:\n",
    "\n",
    "> $ f(x, \\theta) =  = b + x^{T}w $\n"
   ]
  },
  {
   "cell_type": "markdown",
   "id": "bd4d1150",
   "metadata": {},
   "source": [
    "- We can write the new linear regression model as\n",
    "\n",
    "> $ f(x, \\theta) =  = x_{aug}^{T} \\theta_{aug} $\n",
    "where, \n",
    "\n",
    "- $x_{aug} =\n",
    " \\begin{pmatrix}\n",
    "  1 \\\\\n",
    "  x\n",
    " \\end{pmatrix}$\n",
    "\n",
    "- $\\theta_{aug} =\n",
    " \\begin{pmatrix}\n",
    "  b \\\\\n",
    "  w\n",
    " \\end{pmatrix}$\n"
   ]
  },
  {
   "cell_type": "markdown",
   "id": "0ec76bb0",
   "metadata": {},
   "source": [
    "## <font color='red'>theta = np.linalg.lstsq(X, y,  rcond=None)[0]  == How?</font> "
   ]
  },
  {
   "cell_type": "code",
   "execution_count": 115,
   "id": "3092d809",
   "metadata": {},
   "outputs": [
    {
     "name": "stdout",
     "output_type": "stream",
     "text": [
      "[-7.39393755  0.75094233]\n",
      "[-7.39393755 -6.64299523 -5.8920529  -5.14111058 -4.39016825 -3.63922592\n",
      " -2.8882836  -2.13734127 -1.38639895 -0.63545662  0.11548571  0.86642803\n",
      "  1.61737036  2.36831268  3.11925501  3.87019734  4.62113966  5.37208199\n",
      "  6.12302431  6.87396664  7.62490897]\n",
      "[-0.49823574 -0.22517003 -5.53457495 -5.90862251 -3.16739482 -3.80363285\n",
      " -5.7371701  -5.62865468 -7.38596793 -2.11944122 -1.90414067 -4.69185961\n",
      " -0.49533629 -0.41176991  4.32586416  3.3162635   4.58910221  5.35809372\n",
      "  7.18498608 10.28551329 14.87734818]\n"
     ]
    }
   ],
   "source": [
    "# Finding optimal parameters and the estimated outputs for each inputs\n",
    "\n",
    "# linalg.lstsq(a, b, rcond='warn'): Return the least-squares solution to a linear matrix equation.\n",
    "theta = np.linalg.lstsq(X, y,  rcond=None)[0]   # Return the least-squares solution to a linear matrix equation.\n",
    "\n",
    "# theta: parameter θ = (b, w)\n",
    "# theta[0] is the offset (b), theta[1] is the slope (w)\n",
    "\n",
    "# print (X)\n",
    "print(theta)\n",
    "\n",
    "y_estim = np.dot(X, theta) \n",
    "# If a is an N-D array and b is a 1-D array, it is a sum product over the last axis of a and b.\n",
    "\n",
    "# Comparing the estimated output with the actual labels:\n",
    "print (y_estim)\n",
    "# y_estim[0] = b*1 + w*x[0]\n",
    "# y_estim[1] = b*1 + w*x[1]\n",
    "# y_estim[2] = b*1 + w*x[2]\n",
    "# ...\n",
    "# y_estim[2] = b*1 + w*x[2]\n",
    "\n",
    "print (y)"
   ]
  },
  {
   "cell_type": "code",
   "execution_count": 116,
   "id": "724dc74e",
   "metadata": {},
   "outputs": [
    {
     "data": {
      "image/png": "[encoded data removed]",
      "text/plain": [
       "<Figure size 432x288 with 1 Axes>"
      ]
     },
     "metadata": {
      "needs_background": "light"
     },
     "output_type": "display_data"
    }
   ],
   "source": [
    "# Plotting regression line\n",
    "\n",
    "plt.plot(X[:, 1], y, 'o')\n",
    "plt.plot(X[:, 1], y_estim, 'r-')\n",
    "plt.show()\n",
    "\n",
    "# Linear regression on 1d data"
   ]
  },
  {
   "cell_type": "code",
   "execution_count": 129,
   "id": "7abd00b1",
   "metadata": {},
   "outputs": [
    {
     "data": {
      "image/png": "[encoded data removed]",
      "text/plain": [
       "<Figure size 432x288 with 1 Axes>"
      ]
     },
     "metadata": {
      "needs_background": "light"
     },
     "output_type": "display_data"
    }
   ],
   "source": [
    "# Plotting the residuals\n",
    "\n",
    "# print (X)\n",
    "# print (X[:, 0]) # prints 0th column of X\n",
    "# print (X[:, 1]) # prints 1st column of X which actually is x\n",
    "\n",
    "# Plotting the vertical lines (representing the residuals)\n",
    "for x0, y0, y_hat in zip(X[:, 1], y, y_estim):\n",
    "    plt.plot([x0, x0], [y0, y_hat], 'k-')\n",
    "\n",
    "plt.plot(X[:, 1], y, 'o')\n",
    "plt.plot(X[:, 1], y_estim, 'r-')\n",
    "plt.plot(X[:, 1], y_estim, 'x', color='r', markersize=8)\n",
    "plt.show()\n",
    "\n",
    "# The vertical lines denote the residuals between the observed output value for each input (blue circle) and its predicted value (red cross). \n",
    "# The goal of least squares regression is to pick a line that minimizes the sum of squared residuals."
   ]
  }
 ],
 "metadata": {
  "kernelspec": {
   "display_name": "Python 3 (ipykernel)",
   "language": "python",
   "name": "python3"
  },
  "language_info": {
   "codemirror_mode": {
    "name": "ipython",
    "version": 3
   },
   "file_extension": ".py",
   "mimetype": "text/x-python",
   "name": "python",
   "nbconvert_exporter": "python",
   "pygments_lexer": "ipython3",
   "version": "3.9.7"
  }
 },
 "nbformat": 4,
 "nbformat_minor": 5
}
